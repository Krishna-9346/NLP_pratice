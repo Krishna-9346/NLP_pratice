{
  "cells": [
    {
      "cell_type": "code",
      "source": [
        "#Goal: Identify whether a news article is real or fake"
      ],
      "metadata": {
        "id": "3r2c5Ov5pSGN"
      },
      "id": "3r2c5Ov5pSGN",
      "execution_count": null,
      "outputs": []
    },
    {
      "cell_type": "code",
      "source": [
        "#Techniques: BoW / TF-IDF + Logistic Regression"
      ],
      "metadata": {
        "id": "ZbzwHhPDpY11"
      },
      "id": "ZbzwHhPDpY11",
      "execution_count": null,
      "outputs": []
    },
    {
      "cell_type": "code",
      "source": [
        "# import libraries\n",
        "import numpy as np\n",
        "import pandas as pd\n",
        "import seaborn as sns\n",
        "import matplotlib.pyplot as plt\n",
        "\n"
      ],
      "metadata": {
        "id": "C6ibrXcxpbGg"
      },
      "id": "C6ibrXcxpbGg",
      "execution_count": 3,
      "outputs": []
    },
    {
      "cell_type": "code",
      "source": [
        "data=pd.read_csv(\"/content/fake_news_dataset.csv\")"
      ],
      "metadata": {
        "id": "a6A-Prter0j9"
      },
      "id": "a6A-Prter0j9",
      "execution_count": 4,
      "outputs": []
    },
    {
      "cell_type": "code",
      "source": [
        "data.head()"
      ],
      "metadata": {
        "colab": {
          "base_uri": "https://localhost:8080/",
          "height": 293
        },
        "id": "acNy-HI5r6uJ",
        "outputId": "787c0dbd-04fc-484b-ad36-57740919c847"
      },
      "id": "acNy-HI5r6uJ",
      "execution_count": 5,
      "outputs": [
        {
          "output_type": "execute_result",
          "data": {
            "text/plain": [
              "                                  title  \\\n",
              "0               Foreign Democrat final.   \n",
              "1   To offer down resource great point.   \n",
              "2          Himself church myself carry.   \n",
              "3                  You unit its should.   \n",
              "4  Billion believe employee summer how.   \n",
              "\n",
              "                                                text        date    source  \\\n",
              "0  more tax development both store agreement lawy...  2023-03-10  NY Times   \n",
              "1  probably guess western behind likely next inve...  2022-05-25  Fox News   \n",
              "2  them identify forward present success risk sev...  2022-09-01       CNN   \n",
              "3  phone which item yard Republican safe where po...  2023-02-07   Reuters   \n",
              "4  wonder myself fact difficult course forget exa...  2023-04-03       CNN   \n",
              "\n",
              "                 author    category label  \n",
              "0          Paula George    Politics  real  \n",
              "1           Joseph Hill    Politics  fake  \n",
              "2        Julia Robinson    Business  fake  \n",
              "3  Mr. David Foster DDS     Science  fake  \n",
              "4         Austin Walker  Technology  fake  "
            ],
            "text/html": [
              "\n",
              "  <div id=\"df-b3c5559b-5d58-4d5f-b6d4-939d6cb7ba54\" class=\"colab-df-container\">\n",
              "    <div>\n",
              "<style scoped>\n",
              "    .dataframe tbody tr th:only-of-type {\n",
              "        vertical-align: middle;\n",
              "    }\n",
              "\n",
              "    .dataframe tbody tr th {\n",
              "        vertical-align: top;\n",
              "    }\n",
              "\n",
              "    .dataframe thead th {\n",
              "        text-align: right;\n",
              "    }\n",
              "</style>\n",
              "<table border=\"1\" class=\"dataframe\">\n",
              "  <thead>\n",
              "    <tr style=\"text-align: right;\">\n",
              "      <th></th>\n",
              "      <th>title</th>\n",
              "      <th>text</th>\n",
              "      <th>date</th>\n",
              "      <th>source</th>\n",
              "      <th>author</th>\n",
              "      <th>category</th>\n",
              "      <th>label</th>\n",
              "    </tr>\n",
              "  </thead>\n",
              "  <tbody>\n",
              "    <tr>\n",
              "      <th>0</th>\n",
              "      <td>Foreign Democrat final.</td>\n",
              "      <td>more tax development both store agreement lawy...</td>\n",
              "      <td>2023-03-10</td>\n",
              "      <td>NY Times</td>\n",
              "      <td>Paula George</td>\n",
              "      <td>Politics</td>\n",
              "      <td>real</td>\n",
              "    </tr>\n",
              "    <tr>\n",
              "      <th>1</th>\n",
              "      <td>To offer down resource great point.</td>\n",
              "      <td>probably guess western behind likely next inve...</td>\n",
              "      <td>2022-05-25</td>\n",
              "      <td>Fox News</td>\n",
              "      <td>Joseph Hill</td>\n",
              "      <td>Politics</td>\n",
              "      <td>fake</td>\n",
              "    </tr>\n",
              "    <tr>\n",
              "      <th>2</th>\n",
              "      <td>Himself church myself carry.</td>\n",
              "      <td>them identify forward present success risk sev...</td>\n",
              "      <td>2022-09-01</td>\n",
              "      <td>CNN</td>\n",
              "      <td>Julia Robinson</td>\n",
              "      <td>Business</td>\n",
              "      <td>fake</td>\n",
              "    </tr>\n",
              "    <tr>\n",
              "      <th>3</th>\n",
              "      <td>You unit its should.</td>\n",
              "      <td>phone which item yard Republican safe where po...</td>\n",
              "      <td>2023-02-07</td>\n",
              "      <td>Reuters</td>\n",
              "      <td>Mr. David Foster DDS</td>\n",
              "      <td>Science</td>\n",
              "      <td>fake</td>\n",
              "    </tr>\n",
              "    <tr>\n",
              "      <th>4</th>\n",
              "      <td>Billion believe employee summer how.</td>\n",
              "      <td>wonder myself fact difficult course forget exa...</td>\n",
              "      <td>2023-04-03</td>\n",
              "      <td>CNN</td>\n",
              "      <td>Austin Walker</td>\n",
              "      <td>Technology</td>\n",
              "      <td>fake</td>\n",
              "    </tr>\n",
              "  </tbody>\n",
              "</table>\n",
              "</div>\n",
              "    <div class=\"colab-df-buttons\">\n",
              "\n",
              "  <div class=\"colab-df-container\">\n",
              "    <button class=\"colab-df-convert\" onclick=\"convertToInteractive('df-b3c5559b-5d58-4d5f-b6d4-939d6cb7ba54')\"\n",
              "            title=\"Convert this dataframe to an interactive table.\"\n",
              "            style=\"display:none;\">\n",
              "\n",
              "  <svg xmlns=\"http://www.w3.org/2000/svg\" height=\"24px\" viewBox=\"0 -960 960 960\">\n",
              "    <path d=\"M120-120v-720h720v720H120Zm60-500h600v-160H180v160Zm220 220h160v-160H400v160Zm0 220h160v-160H400v160ZM180-400h160v-160H180v160Zm440 0h160v-160H620v160ZM180-180h160v-160H180v160Zm440 0h160v-160H620v160Z\"/>\n",
              "  </svg>\n",
              "    </button>\n",
              "\n",
              "  <style>\n",
              "    .colab-df-container {\n",
              "      display:flex;\n",
              "      gap: 12px;\n",
              "    }\n",
              "\n",
              "    .colab-df-convert {\n",
              "      background-color: #E8F0FE;\n",
              "      border: none;\n",
              "      border-radius: 50%;\n",
              "      cursor: pointer;\n",
              "      display: none;\n",
              "      fill: #1967D2;\n",
              "      height: 32px;\n",
              "      padding: 0 0 0 0;\n",
              "      width: 32px;\n",
              "    }\n",
              "\n",
              "    .colab-df-convert:hover {\n",
              "      background-color: #E2EBFA;\n",
              "      box-shadow: 0px 1px 2px rgba(60, 64, 67, 0.3), 0px 1px 3px 1px rgba(60, 64, 67, 0.15);\n",
              "      fill: #174EA6;\n",
              "    }\n",
              "\n",
              "    .colab-df-buttons div {\n",
              "      margin-bottom: 4px;\n",
              "    }\n",
              "\n",
              "    [theme=dark] .colab-df-convert {\n",
              "      background-color: #3B4455;\n",
              "      fill: #D2E3FC;\n",
              "    }\n",
              "\n",
              "    [theme=dark] .colab-df-convert:hover {\n",
              "      background-color: #434B5C;\n",
              "      box-shadow: 0px 1px 3px 1px rgba(0, 0, 0, 0.15);\n",
              "      filter: drop-shadow(0px 1px 2px rgba(0, 0, 0, 0.3));\n",
              "      fill: #FFFFFF;\n",
              "    }\n",
              "  </style>\n",
              "\n",
              "    <script>\n",
              "      const buttonEl =\n",
              "        document.querySelector('#df-b3c5559b-5d58-4d5f-b6d4-939d6cb7ba54 button.colab-df-convert');\n",
              "      buttonEl.style.display =\n",
              "        google.colab.kernel.accessAllowed ? 'block' : 'none';\n",
              "\n",
              "      async function convertToInteractive(key) {\n",
              "        const element = document.querySelector('#df-b3c5559b-5d58-4d5f-b6d4-939d6cb7ba54');\n",
              "        const dataTable =\n",
              "          await google.colab.kernel.invokeFunction('convertToInteractive',\n",
              "                                                    [key], {});\n",
              "        if (!dataTable) return;\n",
              "\n",
              "        const docLinkHtml = 'Like what you see? Visit the ' +\n",
              "          '<a target=\"_blank\" href=https://colab.research.google.com/notebooks/data_table.ipynb>data table notebook</a>'\n",
              "          + ' to learn more about interactive tables.';\n",
              "        element.innerHTML = '';\n",
              "        dataTable['output_type'] = 'display_data';\n",
              "        await google.colab.output.renderOutput(dataTable, element);\n",
              "        const docLink = document.createElement('div');\n",
              "        docLink.innerHTML = docLinkHtml;\n",
              "        element.appendChild(docLink);\n",
              "      }\n",
              "    </script>\n",
              "  </div>\n",
              "\n",
              "\n",
              "    <div id=\"df-892b23bb-9fb9-4eee-b660-9165da4f9aec\">\n",
              "      <button class=\"colab-df-quickchart\" onclick=\"quickchart('df-892b23bb-9fb9-4eee-b660-9165da4f9aec')\"\n",
              "                title=\"Suggest charts\"\n",
              "                style=\"display:none;\">\n",
              "\n",
              "<svg xmlns=\"http://www.w3.org/2000/svg\" height=\"24px\"viewBox=\"0 0 24 24\"\n",
              "     width=\"24px\">\n",
              "    <g>\n",
              "        <path d=\"M19 3H5c-1.1 0-2 .9-2 2v14c0 1.1.9 2 2 2h14c1.1 0 2-.9 2-2V5c0-1.1-.9-2-2-2zM9 17H7v-7h2v7zm4 0h-2V7h2v10zm4 0h-2v-4h2v4z\"/>\n",
              "    </g>\n",
              "</svg>\n",
              "      </button>\n",
              "\n",
              "<style>\n",
              "  .colab-df-quickchart {\n",
              "      --bg-color: #E8F0FE;\n",
              "      --fill-color: #1967D2;\n",
              "      --hover-bg-color: #E2EBFA;\n",
              "      --hover-fill-color: #174EA6;\n",
              "      --disabled-fill-color: #AAA;\n",
              "      --disabled-bg-color: #DDD;\n",
              "  }\n",
              "\n",
              "  [theme=dark] .colab-df-quickchart {\n",
              "      --bg-color: #3B4455;\n",
              "      --fill-color: #D2E3FC;\n",
              "      --hover-bg-color: #434B5C;\n",
              "      --hover-fill-color: #FFFFFF;\n",
              "      --disabled-bg-color: #3B4455;\n",
              "      --disabled-fill-color: #666;\n",
              "  }\n",
              "\n",
              "  .colab-df-quickchart {\n",
              "    background-color: var(--bg-color);\n",
              "    border: none;\n",
              "    border-radius: 50%;\n",
              "    cursor: pointer;\n",
              "    display: none;\n",
              "    fill: var(--fill-color);\n",
              "    height: 32px;\n",
              "    padding: 0;\n",
              "    width: 32px;\n",
              "  }\n",
              "\n",
              "  .colab-df-quickchart:hover {\n",
              "    background-color: var(--hover-bg-color);\n",
              "    box-shadow: 0 1px 2px rgba(60, 64, 67, 0.3), 0 1px 3px 1px rgba(60, 64, 67, 0.15);\n",
              "    fill: var(--button-hover-fill-color);\n",
              "  }\n",
              "\n",
              "  .colab-df-quickchart-complete:disabled,\n",
              "  .colab-df-quickchart-complete:disabled:hover {\n",
              "    background-color: var(--disabled-bg-color);\n",
              "    fill: var(--disabled-fill-color);\n",
              "    box-shadow: none;\n",
              "  }\n",
              "\n",
              "  .colab-df-spinner {\n",
              "    border: 2px solid var(--fill-color);\n",
              "    border-color: transparent;\n",
              "    border-bottom-color: var(--fill-color);\n",
              "    animation:\n",
              "      spin 1s steps(1) infinite;\n",
              "  }\n",
              "\n",
              "  @keyframes spin {\n",
              "    0% {\n",
              "      border-color: transparent;\n",
              "      border-bottom-color: var(--fill-color);\n",
              "      border-left-color: var(--fill-color);\n",
              "    }\n",
              "    20% {\n",
              "      border-color: transparent;\n",
              "      border-left-color: var(--fill-color);\n",
              "      border-top-color: var(--fill-color);\n",
              "    }\n",
              "    30% {\n",
              "      border-color: transparent;\n",
              "      border-left-color: var(--fill-color);\n",
              "      border-top-color: var(--fill-color);\n",
              "      border-right-color: var(--fill-color);\n",
              "    }\n",
              "    40% {\n",
              "      border-color: transparent;\n",
              "      border-right-color: var(--fill-color);\n",
              "      border-top-color: var(--fill-color);\n",
              "    }\n",
              "    60% {\n",
              "      border-color: transparent;\n",
              "      border-right-color: var(--fill-color);\n",
              "    }\n",
              "    80% {\n",
              "      border-color: transparent;\n",
              "      border-right-color: var(--fill-color);\n",
              "      border-bottom-color: var(--fill-color);\n",
              "    }\n",
              "    90% {\n",
              "      border-color: transparent;\n",
              "      border-bottom-color: var(--fill-color);\n",
              "    }\n",
              "  }\n",
              "</style>\n",
              "\n",
              "      <script>\n",
              "        async function quickchart(key) {\n",
              "          const quickchartButtonEl =\n",
              "            document.querySelector('#' + key + ' button');\n",
              "          quickchartButtonEl.disabled = true;  // To prevent multiple clicks.\n",
              "          quickchartButtonEl.classList.add('colab-df-spinner');\n",
              "          try {\n",
              "            const charts = await google.colab.kernel.invokeFunction(\n",
              "                'suggestCharts', [key], {});\n",
              "          } catch (error) {\n",
              "            console.error('Error during call to suggestCharts:', error);\n",
              "          }\n",
              "          quickchartButtonEl.classList.remove('colab-df-spinner');\n",
              "          quickchartButtonEl.classList.add('colab-df-quickchart-complete');\n",
              "        }\n",
              "        (() => {\n",
              "          let quickchartButtonEl =\n",
              "            document.querySelector('#df-892b23bb-9fb9-4eee-b660-9165da4f9aec button');\n",
              "          quickchartButtonEl.style.display =\n",
              "            google.colab.kernel.accessAllowed ? 'block' : 'none';\n",
              "        })();\n",
              "      </script>\n",
              "    </div>\n",
              "\n",
              "    </div>\n",
              "  </div>\n"
            ],
            "application/vnd.google.colaboratory.intrinsic+json": {
              "type": "dataframe",
              "variable_name": "data",
              "summary": "{\n  \"name\": \"data\",\n  \"rows\": 2429,\n  \"fields\": [\n    {\n      \"column\": \"title\",\n      \"properties\": {\n        \"dtype\": \"string\",\n        \"num_unique_values\": 2429,\n        \"samples\": [\n          \"Beautiful government determine board nation.\",\n          \"Case answer side best she key study side.\",\n          \"Movement choice glass hair possible.\"\n        ],\n        \"semantic_type\": \"\",\n        \"description\": \"\"\n      }\n    },\n    {\n      \"column\": \"text\",\n      \"properties\": {\n        \"dtype\": \"string\",\n        \"num_unique_values\": 2429,\n        \"samples\": [\n          \"build let once important participant really become suffer religious more arm continue go two yourself fall past wind ten foreign recognize herself consider seven address stay from fish public between guy reflect seat national student bag cost lawyer easy wrong evidence my room I laugh only them campaign north day natural according safe mean seek majority guy worry these more everybody minute business green learn eye boy get home campaign full act follow city bank imagine low treatment second huge show risk candidate forward floor and military forget measure at Mr unit example down hospital father practice seek approach study form support fast apply system possible seek task citizen hour suffer church next window picture factor different door according thus watch young shoulder ten election religious different kitchen second several movie another you assume many ball today all perform audience audience few around consumer record fish soon know power building chair they cut mother value down subject with always than as large discuss hand produce mission information themselves capital never case major quickly us word stop control real rate language dinner authority majority room relate case policy not between executive war decision someone since community member prepare newspaper road ever push real reason focus night what usually station each rock common else hard site Democrat off truth management represent forget suggest bank keep property\",\n          \"possible film third president how develop course trade door collection food assume camera answer only some fact good trouble bar study himself southern human each this time simple seek threat else party little open yourself measure start begin school leave him leader again yet although enjoy moment can watch inside win kitchen dinner education bag budget make subject inside bill throughout cold company ok create movement physical guess unit allow group realize song with sort our foreign return and feeling beat image ball use indicate individual too leave might nor foreign music street from music training will team too moment tough become trip doctor nice beyond center any executive drive movie out method attention arrive miss international sure rock condition animal dream central beat along increase serve although research establish create field good image keep cut guess edge father Democrat see often relationship whom seem price teach two four impact worker call glass cost visit prove both relate against doctor item son forget language yet shake education father day blood gun cup clear level try focus management particular response instead training security shake wonder go for tonight recently fish story likely effort reality moment security fly including base campaign west development meet pretty maybe create religious yet still to cell include star impact rock stock fire interest however TV air six right be reduce mind wife first more wind career main apply art there fall lose fund high next investment newspaper nice kid fire institution thank left market picture sister along drive blue option team this each attention do easy store consider daughter build poor know really way born expect also throw tend cost front listen former company grow official yes beyond about part month great current memory laugh raise discussion form vote although election past paper\",\n          \"only body before up could report will oil trial board themselves fly seven soon write degree different look me piece deal space stage sound adult method happen small everything member listen wife usually sense particularly college pay feeling worker action some vote future be thank dream involve little goal guess dinner career camera not bag news owner fact bit let than over career there follow onto total center central ten top common attention authority that policy easy discover house director clearly key land herself first no plan now new reflect itself foreign check writer value contain tree continue put provide animal third wonder though some manager certain her mean base strong gun product process interesting protect plant recently enter girl rich everybody admit draw and between one somebody blood officer break fact read move apply government wait return attention assume put only will present here seat eat glass already building movement and often structure generation knowledge character public foot international late continue often somebody thought write room audience early know local heavy heavy their other than few point college step space note give detail blue suddenly travel behind provide free property generation crime economic make miss behind indicate ever expert personal soldier do throughout now big not produce institution consumer reach lead often black outside start wear enough project good before head sign hundred director foot structure shake time democratic already board suffer catch just window year center physical information start west left technology improve job meeting reason let cover low service political low animal figure example economy ability market become before race magazine not several any more on various right wait economic author\"\n        ],\n        \"semantic_type\": \"\",\n        \"description\": \"\"\n      }\n    },\n    {\n      \"column\": \"date\",\n      \"properties\": {\n        \"dtype\": \"object\",\n        \"num_unique_values\": 988,\n        \"samples\": [\n          \"2024-12-01\",\n          \"2023-07-02\",\n          \"2024-08-19\"\n        ],\n        \"semantic_type\": \"\",\n        \"description\": \"\"\n      }\n    },\n    {\n      \"column\": \"source\",\n      \"properties\": {\n        \"dtype\": \"category\",\n        \"num_unique_values\": 8,\n        \"samples\": [\n          \"Fox News\",\n          \"Global Times\",\n          \"NY Times\"\n        ],\n        \"semantic_type\": \"\",\n        \"description\": \"\"\n      }\n    },\n    {\n      \"column\": \"author\",\n      \"properties\": {\n        \"dtype\": \"string\",\n        \"num_unique_values\": 2254,\n        \"samples\": [\n          \"Christy Davis\",\n          \"Tammy Bryant\",\n          \"Michael Ward\"\n        ],\n        \"semantic_type\": \"\",\n        \"description\": \"\"\n      }\n    },\n    {\n      \"column\": \"category\",\n      \"properties\": {\n        \"dtype\": \"category\",\n        \"num_unique_values\": 7,\n        \"samples\": [\n          \"Politics\",\n          \"Business\",\n          \"Sports\"\n        ],\n        \"semantic_type\": \"\",\n        \"description\": \"\"\n      }\n    },\n    {\n      \"column\": \"label\",\n      \"properties\": {\n        \"dtype\": \"category\",\n        \"num_unique_values\": 2,\n        \"samples\": [\n          \"fake\",\n          \"real\"\n        ],\n        \"semantic_type\": \"\",\n        \"description\": \"\"\n      }\n    }\n  ]\n}"
            }
          },
          "metadata": {},
          "execution_count": 5
        }
      ]
    },
    {
      "cell_type": "code",
      "source": [
        "data.info()"
      ],
      "metadata": {
        "colab": {
          "base_uri": "https://localhost:8080/"
        },
        "id": "0ogso1jer8m2",
        "outputId": "e57c44d8-268a-4749-d191-fe36de2a57d8"
      },
      "id": "0ogso1jer8m2",
      "execution_count": 6,
      "outputs": [
        {
          "output_type": "stream",
          "name": "stdout",
          "text": [
            "<class 'pandas.core.frame.DataFrame'>\n",
            "RangeIndex: 2429 entries, 0 to 2428\n",
            "Data columns (total 7 columns):\n",
            " #   Column    Non-Null Count  Dtype \n",
            "---  ------    --------------  ----- \n",
            " 0   title     2429 non-null   object\n",
            " 1   text      2429 non-null   object\n",
            " 2   date      2428 non-null   object\n",
            " 3   source    2305 non-null   object\n",
            " 4   author    2290 non-null   object\n",
            " 5   category  2428 non-null   object\n",
            " 6   label     2428 non-null   object\n",
            "dtypes: object(7)\n",
            "memory usage: 133.0+ KB\n"
          ]
        }
      ]
    },
    {
      "cell_type": "code",
      "source": [
        "data.isnull().sum()"
      ],
      "metadata": {
        "colab": {
          "base_uri": "https://localhost:8080/",
          "height": 303
        },
        "id": "Ff7LEKkisABU",
        "outputId": "d34d46b3-6a6e-422d-e98c-e075f07b6967"
      },
      "id": "Ff7LEKkisABU",
      "execution_count": null,
      "outputs": [
        {
          "output_type": "execute_result",
          "data": {
            "text/plain": [
              "title          0\n",
              "text           0\n",
              "date           0\n",
              "source      1000\n",
              "author      1000\n",
              "category       0\n",
              "label          0\n",
              "dtype: int64"
            ],
            "text/html": [
              "<div>\n",
              "<style scoped>\n",
              "    .dataframe tbody tr th:only-of-type {\n",
              "        vertical-align: middle;\n",
              "    }\n",
              "\n",
              "    .dataframe tbody tr th {\n",
              "        vertical-align: top;\n",
              "    }\n",
              "\n",
              "    .dataframe thead th {\n",
              "        text-align: right;\n",
              "    }\n",
              "</style>\n",
              "<table border=\"1\" class=\"dataframe\">\n",
              "  <thead>\n",
              "    <tr style=\"text-align: right;\">\n",
              "      <th></th>\n",
              "      <th>0</th>\n",
              "    </tr>\n",
              "  </thead>\n",
              "  <tbody>\n",
              "    <tr>\n",
              "      <th>title</th>\n",
              "      <td>0</td>\n",
              "    </tr>\n",
              "    <tr>\n",
              "      <th>text</th>\n",
              "      <td>0</td>\n",
              "    </tr>\n",
              "    <tr>\n",
              "      <th>date</th>\n",
              "      <td>0</td>\n",
              "    </tr>\n",
              "    <tr>\n",
              "      <th>source</th>\n",
              "      <td>1000</td>\n",
              "    </tr>\n",
              "    <tr>\n",
              "      <th>author</th>\n",
              "      <td>1000</td>\n",
              "    </tr>\n",
              "    <tr>\n",
              "      <th>category</th>\n",
              "      <td>0</td>\n",
              "    </tr>\n",
              "    <tr>\n",
              "      <th>label</th>\n",
              "      <td>0</td>\n",
              "    </tr>\n",
              "  </tbody>\n",
              "</table>\n",
              "</div><br><label><b>dtype:</b> int64</label>"
            ]
          },
          "metadata": {},
          "execution_count": 7
        }
      ]
    },
    {
      "cell_type": "code",
      "source": [
        "#Before drop null values\n",
        "data.shape\n"
      ],
      "metadata": {
        "colab": {
          "base_uri": "https://localhost:8080/"
        },
        "id": "zajC23MnsDby",
        "outputId": "66a3911e-054f-4d0e-fc0e-508aea5fffab"
      },
      "id": "zajC23MnsDby",
      "execution_count": null,
      "outputs": [
        {
          "output_type": "execute_result",
          "data": {
            "text/plain": [
              "(20000, 7)"
            ]
          },
          "metadata": {},
          "execution_count": 9
        }
      ]
    },
    {
      "cell_type": "code",
      "source": [
        "data.dropna(axis=0,inplace=True)"
      ],
      "metadata": {
        "id": "TaasST4SsHE1"
      },
      "id": "TaasST4SsHE1",
      "execution_count": null,
      "outputs": []
    },
    {
      "cell_type": "code",
      "source": [
        "data.shape"
      ],
      "metadata": {
        "colab": {
          "base_uri": "https://localhost:8080/"
        },
        "id": "NQZXsS0osQFg",
        "outputId": "5409a092-bb33-42ae-8523-558bfb9a6613"
      },
      "id": "NQZXsS0osQFg",
      "execution_count": null,
      "outputs": [
        {
          "output_type": "execute_result",
          "data": {
            "text/plain": [
              "(18045, 7)"
            ]
          },
          "metadata": {},
          "execution_count": 12
        }
      ]
    },
    {
      "cell_type": "code",
      "source": [
        "data.isnull().sum()"
      ],
      "metadata": {
        "colab": {
          "base_uri": "https://localhost:8080/",
          "height": 303
        },
        "id": "-tkA1hjUsStJ",
        "outputId": "e1d0b05a-0936-4311-d308-3bbfa6530c6e"
      },
      "id": "-tkA1hjUsStJ",
      "execution_count": null,
      "outputs": [
        {
          "output_type": "execute_result",
          "data": {
            "text/plain": [
              "title       0\n",
              "text        0\n",
              "date        0\n",
              "source      0\n",
              "author      0\n",
              "category    0\n",
              "label       0\n",
              "dtype: int64"
            ],
            "text/html": [
              "<div>\n",
              "<style scoped>\n",
              "    .dataframe tbody tr th:only-of-type {\n",
              "        vertical-align: middle;\n",
              "    }\n",
              "\n",
              "    .dataframe tbody tr th {\n",
              "        vertical-align: top;\n",
              "    }\n",
              "\n",
              "    .dataframe thead th {\n",
              "        text-align: right;\n",
              "    }\n",
              "</style>\n",
              "<table border=\"1\" class=\"dataframe\">\n",
              "  <thead>\n",
              "    <tr style=\"text-align: right;\">\n",
              "      <th></th>\n",
              "      <th>0</th>\n",
              "    </tr>\n",
              "  </thead>\n",
              "  <tbody>\n",
              "    <tr>\n",
              "      <th>title</th>\n",
              "      <td>0</td>\n",
              "    </tr>\n",
              "    <tr>\n",
              "      <th>text</th>\n",
              "      <td>0</td>\n",
              "    </tr>\n",
              "    <tr>\n",
              "      <th>date</th>\n",
              "      <td>0</td>\n",
              "    </tr>\n",
              "    <tr>\n",
              "      <th>source</th>\n",
              "      <td>0</td>\n",
              "    </tr>\n",
              "    <tr>\n",
              "      <th>author</th>\n",
              "      <td>0</td>\n",
              "    </tr>\n",
              "    <tr>\n",
              "      <th>category</th>\n",
              "      <td>0</td>\n",
              "    </tr>\n",
              "    <tr>\n",
              "      <th>label</th>\n",
              "      <td>0</td>\n",
              "    </tr>\n",
              "  </tbody>\n",
              "</table>\n",
              "</div><br><label><b>dtype:</b> int64</label>"
            ]
          },
          "metadata": {},
          "execution_count": 13
        }
      ]
    },
    {
      "cell_type": "code",
      "source": [
        "data.head()"
      ],
      "metadata": {
        "colab": {
          "base_uri": "https://localhost:8080/",
          "height": 293
        },
        "id": "C84piTxgsWFZ",
        "outputId": "a7cd2e4d-7271-4ebd-9282-3957b27fb53f"
      },
      "id": "C84piTxgsWFZ",
      "execution_count": null,
      "outputs": [
        {
          "output_type": "execute_result",
          "data": {
            "text/plain": [
              "                                  title  \\\n",
              "0               Foreign Democrat final.   \n",
              "1   To offer down resource great point.   \n",
              "2          Himself church myself carry.   \n",
              "3                  You unit its should.   \n",
              "4  Billion believe employee summer how.   \n",
              "\n",
              "                                                text        date    source  \\\n",
              "0  more tax development both store agreement lawy...  2023-03-10  NY Times   \n",
              "1  probably guess western behind likely next inve...  2022-05-25  Fox News   \n",
              "2  them identify forward present success risk sev...  2022-09-01       CNN   \n",
              "3  phone which item yard Republican safe where po...  2023-02-07   Reuters   \n",
              "4  wonder myself fact difficult course forget exa...  2023-04-03       CNN   \n",
              "\n",
              "                 author    category label  \n",
              "0          Paula George    Politics  real  \n",
              "1           Joseph Hill    Politics  fake  \n",
              "2        Julia Robinson    Business  fake  \n",
              "3  Mr. David Foster DDS     Science  fake  \n",
              "4         Austin Walker  Technology  fake  "
            ],
            "text/html": [
              "\n",
              "  <div id=\"df-a1a4eb62-e397-4b58-98dd-7ba5304ae2af\" class=\"colab-df-container\">\n",
              "    <div>\n",
              "<style scoped>\n",
              "    .dataframe tbody tr th:only-of-type {\n",
              "        vertical-align: middle;\n",
              "    }\n",
              "\n",
              "    .dataframe tbody tr th {\n",
              "        vertical-align: top;\n",
              "    }\n",
              "\n",
              "    .dataframe thead th {\n",
              "        text-align: right;\n",
              "    }\n",
              "</style>\n",
              "<table border=\"1\" class=\"dataframe\">\n",
              "  <thead>\n",
              "    <tr style=\"text-align: right;\">\n",
              "      <th></th>\n",
              "      <th>title</th>\n",
              "      <th>text</th>\n",
              "      <th>date</th>\n",
              "      <th>source</th>\n",
              "      <th>author</th>\n",
              "      <th>category</th>\n",
              "      <th>label</th>\n",
              "    </tr>\n",
              "  </thead>\n",
              "  <tbody>\n",
              "    <tr>\n",
              "      <th>0</th>\n",
              "      <td>Foreign Democrat final.</td>\n",
              "      <td>more tax development both store agreement lawy...</td>\n",
              "      <td>2023-03-10</td>\n",
              "      <td>NY Times</td>\n",
              "      <td>Paula George</td>\n",
              "      <td>Politics</td>\n",
              "      <td>real</td>\n",
              "    </tr>\n",
              "    <tr>\n",
              "      <th>1</th>\n",
              "      <td>To offer down resource great point.</td>\n",
              "      <td>probably guess western behind likely next inve...</td>\n",
              "      <td>2022-05-25</td>\n",
              "      <td>Fox News</td>\n",
              "      <td>Joseph Hill</td>\n",
              "      <td>Politics</td>\n",
              "      <td>fake</td>\n",
              "    </tr>\n",
              "    <tr>\n",
              "      <th>2</th>\n",
              "      <td>Himself church myself carry.</td>\n",
              "      <td>them identify forward present success risk sev...</td>\n",
              "      <td>2022-09-01</td>\n",
              "      <td>CNN</td>\n",
              "      <td>Julia Robinson</td>\n",
              "      <td>Business</td>\n",
              "      <td>fake</td>\n",
              "    </tr>\n",
              "    <tr>\n",
              "      <th>3</th>\n",
              "      <td>You unit its should.</td>\n",
              "      <td>phone which item yard Republican safe where po...</td>\n",
              "      <td>2023-02-07</td>\n",
              "      <td>Reuters</td>\n",
              "      <td>Mr. David Foster DDS</td>\n",
              "      <td>Science</td>\n",
              "      <td>fake</td>\n",
              "    </tr>\n",
              "    <tr>\n",
              "      <th>4</th>\n",
              "      <td>Billion believe employee summer how.</td>\n",
              "      <td>wonder myself fact difficult course forget exa...</td>\n",
              "      <td>2023-04-03</td>\n",
              "      <td>CNN</td>\n",
              "      <td>Austin Walker</td>\n",
              "      <td>Technology</td>\n",
              "      <td>fake</td>\n",
              "    </tr>\n",
              "  </tbody>\n",
              "</table>\n",
              "</div>\n",
              "    <div class=\"colab-df-buttons\">\n",
              "\n",
              "  <div class=\"colab-df-container\">\n",
              "    <button class=\"colab-df-convert\" onclick=\"convertToInteractive('df-a1a4eb62-e397-4b58-98dd-7ba5304ae2af')\"\n",
              "            title=\"Convert this dataframe to an interactive table.\"\n",
              "            style=\"display:none;\">\n",
              "\n",
              "  <svg xmlns=\"http://www.w3.org/2000/svg\" height=\"24px\" viewBox=\"0 -960 960 960\">\n",
              "    <path d=\"M120-120v-720h720v720H120Zm60-500h600v-160H180v160Zm220 220h160v-160H400v160Zm0 220h160v-160H400v160ZM180-400h160v-160H180v160Zm440 0h160v-160H620v160ZM180-180h160v-160H180v160Zm440 0h160v-160H620v160Z\"/>\n",
              "  </svg>\n",
              "    </button>\n",
              "\n",
              "  <style>\n",
              "    .colab-df-container {\n",
              "      display:flex;\n",
              "      gap: 12px;\n",
              "    }\n",
              "\n",
              "    .colab-df-convert {\n",
              "      background-color: #E8F0FE;\n",
              "      border: none;\n",
              "      border-radius: 50%;\n",
              "      cursor: pointer;\n",
              "      display: none;\n",
              "      fill: #1967D2;\n",
              "      height: 32px;\n",
              "      padding: 0 0 0 0;\n",
              "      width: 32px;\n",
              "    }\n",
              "\n",
              "    .colab-df-convert:hover {\n",
              "      background-color: #E2EBFA;\n",
              "      box-shadow: 0px 1px 2px rgba(60, 64, 67, 0.3), 0px 1px 3px 1px rgba(60, 64, 67, 0.15);\n",
              "      fill: #174EA6;\n",
              "    }\n",
              "\n",
              "    .colab-df-buttons div {\n",
              "      margin-bottom: 4px;\n",
              "    }\n",
              "\n",
              "    [theme=dark] .colab-df-convert {\n",
              "      background-color: #3B4455;\n",
              "      fill: #D2E3FC;\n",
              "    }\n",
              "\n",
              "    [theme=dark] .colab-df-convert:hover {\n",
              "      background-color: #434B5C;\n",
              "      box-shadow: 0px 1px 3px 1px rgba(0, 0, 0, 0.15);\n",
              "      filter: drop-shadow(0px 1px 2px rgba(0, 0, 0, 0.3));\n",
              "      fill: #FFFFFF;\n",
              "    }\n",
              "  </style>\n",
              "\n",
              "    <script>\n",
              "      const buttonEl =\n",
              "        document.querySelector('#df-a1a4eb62-e397-4b58-98dd-7ba5304ae2af button.colab-df-convert');\n",
              "      buttonEl.style.display =\n",
              "        google.colab.kernel.accessAllowed ? 'block' : 'none';\n",
              "\n",
              "      async function convertToInteractive(key) {\n",
              "        const element = document.querySelector('#df-a1a4eb62-e397-4b58-98dd-7ba5304ae2af');\n",
              "        const dataTable =\n",
              "          await google.colab.kernel.invokeFunction('convertToInteractive',\n",
              "                                                    [key], {});\n",
              "        if (!dataTable) return;\n",
              "\n",
              "        const docLinkHtml = 'Like what you see? Visit the ' +\n",
              "          '<a target=\"_blank\" href=https://colab.research.google.com/notebooks/data_table.ipynb>data table notebook</a>'\n",
              "          + ' to learn more about interactive tables.';\n",
              "        element.innerHTML = '';\n",
              "        dataTable['output_type'] = 'display_data';\n",
              "        await google.colab.output.renderOutput(dataTable, element);\n",
              "        const docLink = document.createElement('div');\n",
              "        docLink.innerHTML = docLinkHtml;\n",
              "        element.appendChild(docLink);\n",
              "      }\n",
              "    </script>\n",
              "  </div>\n",
              "\n",
              "\n",
              "    <div id=\"df-ba92f9ea-e48a-422c-b4fe-10cb93dc2ce0\">\n",
              "      <button class=\"colab-df-quickchart\" onclick=\"quickchart('df-ba92f9ea-e48a-422c-b4fe-10cb93dc2ce0')\"\n",
              "                title=\"Suggest charts\"\n",
              "                style=\"display:none;\">\n",
              "\n",
              "<svg xmlns=\"http://www.w3.org/2000/svg\" height=\"24px\"viewBox=\"0 0 24 24\"\n",
              "     width=\"24px\">\n",
              "    <g>\n",
              "        <path d=\"M19 3H5c-1.1 0-2 .9-2 2v14c0 1.1.9 2 2 2h14c1.1 0 2-.9 2-2V5c0-1.1-.9-2-2-2zM9 17H7v-7h2v7zm4 0h-2V7h2v10zm4 0h-2v-4h2v4z\"/>\n",
              "    </g>\n",
              "</svg>\n",
              "      </button>\n",
              "\n",
              "<style>\n",
              "  .colab-df-quickchart {\n",
              "      --bg-color: #E8F0FE;\n",
              "      --fill-color: #1967D2;\n",
              "      --hover-bg-color: #E2EBFA;\n",
              "      --hover-fill-color: #174EA6;\n",
              "      --disabled-fill-color: #AAA;\n",
              "      --disabled-bg-color: #DDD;\n",
              "  }\n",
              "\n",
              "  [theme=dark] .colab-df-quickchart {\n",
              "      --bg-color: #3B4455;\n",
              "      --fill-color: #D2E3FC;\n",
              "      --hover-bg-color: #434B5C;\n",
              "      --hover-fill-color: #FFFFFF;\n",
              "      --disabled-bg-color: #3B4455;\n",
              "      --disabled-fill-color: #666;\n",
              "  }\n",
              "\n",
              "  .colab-df-quickchart {\n",
              "    background-color: var(--bg-color);\n",
              "    border: none;\n",
              "    border-radius: 50%;\n",
              "    cursor: pointer;\n",
              "    display: none;\n",
              "    fill: var(--fill-color);\n",
              "    height: 32px;\n",
              "    padding: 0;\n",
              "    width: 32px;\n",
              "  }\n",
              "\n",
              "  .colab-df-quickchart:hover {\n",
              "    background-color: var(--hover-bg-color);\n",
              "    box-shadow: 0 1px 2px rgba(60, 64, 67, 0.3), 0 1px 3px 1px rgba(60, 64, 67, 0.15);\n",
              "    fill: var(--button-hover-fill-color);\n",
              "  }\n",
              "\n",
              "  .colab-df-quickchart-complete:disabled,\n",
              "  .colab-df-quickchart-complete:disabled:hover {\n",
              "    background-color: var(--disabled-bg-color);\n",
              "    fill: var(--disabled-fill-color);\n",
              "    box-shadow: none;\n",
              "  }\n",
              "\n",
              "  .colab-df-spinner {\n",
              "    border: 2px solid var(--fill-color);\n",
              "    border-color: transparent;\n",
              "    border-bottom-color: var(--fill-color);\n",
              "    animation:\n",
              "      spin 1s steps(1) infinite;\n",
              "  }\n",
              "\n",
              "  @keyframes spin {\n",
              "    0% {\n",
              "      border-color: transparent;\n",
              "      border-bottom-color: var(--fill-color);\n",
              "      border-left-color: var(--fill-color);\n",
              "    }\n",
              "    20% {\n",
              "      border-color: transparent;\n",
              "      border-left-color: var(--fill-color);\n",
              "      border-top-color: var(--fill-color);\n",
              "    }\n",
              "    30% {\n",
              "      border-color: transparent;\n",
              "      border-left-color: var(--fill-color);\n",
              "      border-top-color: var(--fill-color);\n",
              "      border-right-color: var(--fill-color);\n",
              "    }\n",
              "    40% {\n",
              "      border-color: transparent;\n",
              "      border-right-color: var(--fill-color);\n",
              "      border-top-color: var(--fill-color);\n",
              "    }\n",
              "    60% {\n",
              "      border-color: transparent;\n",
              "      border-right-color: var(--fill-color);\n",
              "    }\n",
              "    80% {\n",
              "      border-color: transparent;\n",
              "      border-right-color: var(--fill-color);\n",
              "      border-bottom-color: var(--fill-color);\n",
              "    }\n",
              "    90% {\n",
              "      border-color: transparent;\n",
              "      border-bottom-color: var(--fill-color);\n",
              "    }\n",
              "  }\n",
              "</style>\n",
              "\n",
              "      <script>\n",
              "        async function quickchart(key) {\n",
              "          const quickchartButtonEl =\n",
              "            document.querySelector('#' + key + ' button');\n",
              "          quickchartButtonEl.disabled = true;  // To prevent multiple clicks.\n",
              "          quickchartButtonEl.classList.add('colab-df-spinner');\n",
              "          try {\n",
              "            const charts = await google.colab.kernel.invokeFunction(\n",
              "                'suggestCharts', [key], {});\n",
              "          } catch (error) {\n",
              "            console.error('Error during call to suggestCharts:', error);\n",
              "          }\n",
              "          quickchartButtonEl.classList.remove('colab-df-spinner');\n",
              "          quickchartButtonEl.classList.add('colab-df-quickchart-complete');\n",
              "        }\n",
              "        (() => {\n",
              "          let quickchartButtonEl =\n",
              "            document.querySelector('#df-ba92f9ea-e48a-422c-b4fe-10cb93dc2ce0 button');\n",
              "          quickchartButtonEl.style.display =\n",
              "            google.colab.kernel.accessAllowed ? 'block' : 'none';\n",
              "        })();\n",
              "      </script>\n",
              "    </div>\n",
              "\n",
              "    </div>\n",
              "  </div>\n"
            ],
            "application/vnd.google.colaboratory.intrinsic+json": {
              "type": "dataframe",
              "variable_name": "data",
              "summary": "{\n  \"name\": \"data\",\n  \"rows\": 18045,\n  \"fields\": [\n    {\n      \"column\": \"title\",\n      \"properties\": {\n        \"dtype\": \"string\",\n        \"num_unique_values\": 18045,\n        \"samples\": [\n          \"Peace catch morning.\",\n          \"Do central late work art next.\",\n          \"Listen together economy lawyer throughout.\"\n        ],\n        \"semantic_type\": \"\",\n        \"description\": \"\"\n      }\n    },\n    {\n      \"column\": \"text\",\n      \"properties\": {\n        \"dtype\": \"string\",\n        \"num_unique_values\": 18045,\n        \"samples\": [\n          \"major start seat mouth goal eye newspaper but tough become admit lawyer find pass daughter town call central adult sure with war customer policy if agree market physical well institution push onto down court necessary despite benefit seven hold scientist operation production hear everything myself single official PM physical unit amount his stay help about agree their area boy away only quite history benefit car fine present certainly because on section worker us actually his concern history put rest picture why week seem seem front trouble maybe face general relationship gas sell movie tough hotel inside military tonight treat manage three clearly another similar main born sit unit recent bank glass three finish deal region north site side likely sort citizen four whose religious window answer around ask hundred free body month about raise develop benefit reason now box role wind former now imagine police himself learn majority major rise employee summer ask wear later space unit sister space live price ball fill their thing thus let without garden nearly between direction weight keep adult surface cultural record only bank likely real drop century almost follow apply major race cell evening chair area magazine accept family movement role point begin mention herself whole expert most firm newspaper know smile price reflect sister while city claim happy prove build almost week kid foreign personal live ahead kind\",\n          \"discover ten carry worker about tree growth behind there student long meet reality card on sister anyone religious benefit ever fire important man pull early present discussion trip than certain determine appear direction party other deal receive require meeting material play would compare establish together movie business decide control rise marriage suggest follow region huge development two meeting cut spend lay affect Democrat exist word challenge actually radio vote great thing another power short how student evening that lay also watch face the admit ever cultural evidence name point any part offer Republican investment later all investment film natural people significant now me enough fast finally able six another cause process indeed issue likely experience interest face center start health eight when final maybe second fine rather add approach last name house everything ever police present wife ok sell people statement military customer hospital church place institution town animal fall street loss find sometimes answer life maybe describe part remember true upon explain unit least decade according discover vote civil each lawyer local third move guess rock sea picture force between voice difficult ready effort follow region capital instead fear continue plant pull former federal entire young answer agency hear draw ability attention democratic develop thousand level administration offer truth catch produce when reduce\",\n          \"relate everyone evening simply along PM exactly activity future to month require throw discover whose keep south fact per would condition of doctor various nature reveal vote together field popular available sense serious watch amount some visit owner research prevent her cultural enjoy public girl end edge computer fear radio instead turn movement cut professor bank all better without moment leader skill really huge thought free party back sea chair benefit eye leader left very Mr star door page behavior where evening admit detail a vote appear role whole else woman protect step attention power contain view almost behind own serious bring moment movie spring political yes who well budget tax once where just student recognize officer window result charge visit eat phone American help group together item set window along suggest line car onto loss call agency special school look operation act audience education today sense along increase though direction staff by foreign impact back strong his here smile affect through position gas time choose city drop direction interest little million special join important left there certain education question source run deep usually citizen fish adult source executive staff foreign capital while course budget leader appear behind occur next government matter believe result kind more couple she pressure green here your small common certain green mother size across miss letter study blood my well war another professional guess\"\n        ],\n        \"semantic_type\": \"\",\n        \"description\": \"\"\n      }\n    },\n    {\n      \"column\": \"date\",\n      \"properties\": {\n        \"dtype\": \"object\",\n        \"num_unique_values\": 1096,\n        \"samples\": [\n          \"2022-07-09\",\n          \"2024-09-30\",\n          \"2023-02-20\"\n        ],\n        \"semantic_type\": \"\",\n        \"description\": \"\"\n      }\n    },\n    {\n      \"column\": \"source\",\n      \"properties\": {\n        \"dtype\": \"category\",\n        \"num_unique_values\": 8,\n        \"samples\": [\n          \"Fox News\",\n          \"Global Times\",\n          \"NY Times\"\n        ],\n        \"semantic_type\": \"\",\n        \"description\": \"\"\n      }\n    },\n    {\n      \"column\": \"author\",\n      \"properties\": {\n        \"dtype\": \"string\",\n        \"num_unique_values\": 16249,\n        \"samples\": [\n          \"Lisa Solis\",\n          \"Michael Parker\",\n          \"Mrs. Emily Wright\"\n        ],\n        \"semantic_type\": \"\",\n        \"description\": \"\"\n      }\n    },\n    {\n      \"column\": \"category\",\n      \"properties\": {\n        \"dtype\": \"category\",\n        \"num_unique_values\": 7,\n        \"samples\": [\n          \"Politics\",\n          \"Business\",\n          \"Sports\"\n        ],\n        \"semantic_type\": \"\",\n        \"description\": \"\"\n      }\n    },\n    {\n      \"column\": \"label\",\n      \"properties\": {\n        \"dtype\": \"category\",\n        \"num_unique_values\": 2,\n        \"samples\": [\n          \"fake\",\n          \"real\"\n        ],\n        \"semantic_type\": \"\",\n        \"description\": \"\"\n      }\n    }\n  ]\n}"
            }
          },
          "metadata": {},
          "execution_count": 14
        }
      ]
    },
    {
      "cell_type": "code",
      "source": [
        "data.duplicated().sum()"
      ],
      "metadata": {
        "colab": {
          "base_uri": "https://localhost:8080/"
        },
        "id": "99qm0s_1zj6D",
        "outputId": "37ea9e31-46db-4da4-c889-5f740369643b"
      },
      "id": "99qm0s_1zj6D",
      "execution_count": 8,
      "outputs": [
        {
          "output_type": "execute_result",
          "data": {
            "text/plain": [
              "np.int64(0)"
            ]
          },
          "metadata": {},
          "execution_count": 8
        }
      ]
    },
    {
      "cell_type": "code",
      "source": [
        "data.reset_index(inplace=True)"
      ],
      "metadata": {
        "id": "m0sZsmkyt8Gf"
      },
      "id": "m0sZsmkyt8Gf",
      "execution_count": 9,
      "outputs": []
    },
    {
      "cell_type": "code",
      "source": [
        "data"
      ],
      "metadata": {
        "colab": {
          "base_uri": "https://localhost:8080/",
          "height": 597
        },
        "id": "__JjdOnLuBVc",
        "outputId": "d6e44c8c-16f6-4a5f-d247-902279c94c5e"
      },
      "id": "__JjdOnLuBVc",
      "execution_count": 10,
      "outputs": [
        {
          "output_type": "execute_result",
          "data": {
            "text/plain": [
              "      index                                          title  \\\n",
              "0         0                        Foreign Democrat final.   \n",
              "1         1            To offer down resource great point.   \n",
              "2         2                   Himself church myself carry.   \n",
              "3         3                           You unit its should.   \n",
              "4         4           Billion believe employee summer how.   \n",
              "...     ...                                            ...   \n",
              "2424   2424          Section hit money positive lose part.   \n",
              "2425   2425                        Process late sell bank.   \n",
              "2426   2426           Wind also hard operation treat test.   \n",
              "2427   2427                    Simply common sign receive.   \n",
              "2428   2428  Republican give goal detail officer work one.   \n",
              "\n",
              "                                                   text        date  \\\n",
              "0     more tax development both store agreement lawy...  2023-03-10   \n",
              "1     probably guess western behind likely next inve...  2022-05-25   \n",
              "2     them identify forward present success risk sev...  2022-09-01   \n",
              "3     phone which item yard Republican safe where po...  2023-02-07   \n",
              "4     wonder myself fact difficult course forget exa...  2023-04-03   \n",
              "...                                                 ...         ...   \n",
              "2424  fear science wish direction something nation a...  2023-11-10   \n",
              "2425  door person build condition might organization...  2022-09-01   \n",
              "2426  economy road imagine tell participant hair ins...  2022-10-30   \n",
              "2427  tonight air production town approach news trad...  2022-12-30   \n",
              "2428  beat attorney fine Democrat gas such debate ev...         NaN   \n",
              "\n",
              "            source                author    category label  \n",
              "0         NY Times          Paula George    Politics  real  \n",
              "1         Fox News           Joseph Hill    Politics  fake  \n",
              "2              CNN        Julia Robinson    Business  fake  \n",
              "3          Reuters  Mr. David Foster DDS     Science  fake  \n",
              "4              CNN         Austin Walker  Technology  fake  \n",
              "...            ...                   ...         ...   ...  \n",
              "2424           NaN        Sarah Gonzalez      Sports  fake  \n",
              "2425      Fox News        Michael Burton      Sports  real  \n",
              "2426  Global Times          Wendy Miller     Science  real  \n",
              "2427      NY Times      Ashley Rodriguez     Science  fake  \n",
              "2428           NaN                   NaN         NaN   NaN  \n",
              "\n",
              "[2429 rows x 8 columns]"
            ],
            "text/html": [
              "\n",
              "  <div id=\"df-c3130352-4ae9-403a-8e32-40f71d410f9f\" class=\"colab-df-container\">\n",
              "    <div>\n",
              "<style scoped>\n",
              "    .dataframe tbody tr th:only-of-type {\n",
              "        vertical-align: middle;\n",
              "    }\n",
              "\n",
              "    .dataframe tbody tr th {\n",
              "        vertical-align: top;\n",
              "    }\n",
              "\n",
              "    .dataframe thead th {\n",
              "        text-align: right;\n",
              "    }\n",
              "</style>\n",
              "<table border=\"1\" class=\"dataframe\">\n",
              "  <thead>\n",
              "    <tr style=\"text-align: right;\">\n",
              "      <th></th>\n",
              "      <th>index</th>\n",
              "      <th>title</th>\n",
              "      <th>text</th>\n",
              "      <th>date</th>\n",
              "      <th>source</th>\n",
              "      <th>author</th>\n",
              "      <th>category</th>\n",
              "      <th>label</th>\n",
              "    </tr>\n",
              "  </thead>\n",
              "  <tbody>\n",
              "    <tr>\n",
              "      <th>0</th>\n",
              "      <td>0</td>\n",
              "      <td>Foreign Democrat final.</td>\n",
              "      <td>more tax development both store agreement lawy...</td>\n",
              "      <td>2023-03-10</td>\n",
              "      <td>NY Times</td>\n",
              "      <td>Paula George</td>\n",
              "      <td>Politics</td>\n",
              "      <td>real</td>\n",
              "    </tr>\n",
              "    <tr>\n",
              "      <th>1</th>\n",
              "      <td>1</td>\n",
              "      <td>To offer down resource great point.</td>\n",
              "      <td>probably guess western behind likely next inve...</td>\n",
              "      <td>2022-05-25</td>\n",
              "      <td>Fox News</td>\n",
              "      <td>Joseph Hill</td>\n",
              "      <td>Politics</td>\n",
              "      <td>fake</td>\n",
              "    </tr>\n",
              "    <tr>\n",
              "      <th>2</th>\n",
              "      <td>2</td>\n",
              "      <td>Himself church myself carry.</td>\n",
              "      <td>them identify forward present success risk sev...</td>\n",
              "      <td>2022-09-01</td>\n",
              "      <td>CNN</td>\n",
              "      <td>Julia Robinson</td>\n",
              "      <td>Business</td>\n",
              "      <td>fake</td>\n",
              "    </tr>\n",
              "    <tr>\n",
              "      <th>3</th>\n",
              "      <td>3</td>\n",
              "      <td>You unit its should.</td>\n",
              "      <td>phone which item yard Republican safe where po...</td>\n",
              "      <td>2023-02-07</td>\n",
              "      <td>Reuters</td>\n",
              "      <td>Mr. David Foster DDS</td>\n",
              "      <td>Science</td>\n",
              "      <td>fake</td>\n",
              "    </tr>\n",
              "    <tr>\n",
              "      <th>4</th>\n",
              "      <td>4</td>\n",
              "      <td>Billion believe employee summer how.</td>\n",
              "      <td>wonder myself fact difficult course forget exa...</td>\n",
              "      <td>2023-04-03</td>\n",
              "      <td>CNN</td>\n",
              "      <td>Austin Walker</td>\n",
              "      <td>Technology</td>\n",
              "      <td>fake</td>\n",
              "    </tr>\n",
              "    <tr>\n",
              "      <th>...</th>\n",
              "      <td>...</td>\n",
              "      <td>...</td>\n",
              "      <td>...</td>\n",
              "      <td>...</td>\n",
              "      <td>...</td>\n",
              "      <td>...</td>\n",
              "      <td>...</td>\n",
              "      <td>...</td>\n",
              "    </tr>\n",
              "    <tr>\n",
              "      <th>2424</th>\n",
              "      <td>2424</td>\n",
              "      <td>Section hit money positive lose part.</td>\n",
              "      <td>fear science wish direction something nation a...</td>\n",
              "      <td>2023-11-10</td>\n",
              "      <td>NaN</td>\n",
              "      <td>Sarah Gonzalez</td>\n",
              "      <td>Sports</td>\n",
              "      <td>fake</td>\n",
              "    </tr>\n",
              "    <tr>\n",
              "      <th>2425</th>\n",
              "      <td>2425</td>\n",
              "      <td>Process late sell bank.</td>\n",
              "      <td>door person build condition might organization...</td>\n",
              "      <td>2022-09-01</td>\n",
              "      <td>Fox News</td>\n",
              "      <td>Michael Burton</td>\n",
              "      <td>Sports</td>\n",
              "      <td>real</td>\n",
              "    </tr>\n",
              "    <tr>\n",
              "      <th>2426</th>\n",
              "      <td>2426</td>\n",
              "      <td>Wind also hard operation treat test.</td>\n",
              "      <td>economy road imagine tell participant hair ins...</td>\n",
              "      <td>2022-10-30</td>\n",
              "      <td>Global Times</td>\n",
              "      <td>Wendy Miller</td>\n",
              "      <td>Science</td>\n",
              "      <td>real</td>\n",
              "    </tr>\n",
              "    <tr>\n",
              "      <th>2427</th>\n",
              "      <td>2427</td>\n",
              "      <td>Simply common sign receive.</td>\n",
              "      <td>tonight air production town approach news trad...</td>\n",
              "      <td>2022-12-30</td>\n",
              "      <td>NY Times</td>\n",
              "      <td>Ashley Rodriguez</td>\n",
              "      <td>Science</td>\n",
              "      <td>fake</td>\n",
              "    </tr>\n",
              "    <tr>\n",
              "      <th>2428</th>\n",
              "      <td>2428</td>\n",
              "      <td>Republican give goal detail officer work one.</td>\n",
              "      <td>beat attorney fine Democrat gas such debate ev...</td>\n",
              "      <td>NaN</td>\n",
              "      <td>NaN</td>\n",
              "      <td>NaN</td>\n",
              "      <td>NaN</td>\n",
              "      <td>NaN</td>\n",
              "    </tr>\n",
              "  </tbody>\n",
              "</table>\n",
              "<p>2429 rows × 8 columns</p>\n",
              "</div>\n",
              "    <div class=\"colab-df-buttons\">\n",
              "\n",
              "  <div class=\"colab-df-container\">\n",
              "    <button class=\"colab-df-convert\" onclick=\"convertToInteractive('df-c3130352-4ae9-403a-8e32-40f71d410f9f')\"\n",
              "            title=\"Convert this dataframe to an interactive table.\"\n",
              "            style=\"display:none;\">\n",
              "\n",
              "  <svg xmlns=\"http://www.w3.org/2000/svg\" height=\"24px\" viewBox=\"0 -960 960 960\">\n",
              "    <path d=\"M120-120v-720h720v720H120Zm60-500h600v-160H180v160Zm220 220h160v-160H400v160Zm0 220h160v-160H400v160ZM180-400h160v-160H180v160Zm440 0h160v-160H620v160ZM180-180h160v-160H180v160Zm440 0h160v-160H620v160Z\"/>\n",
              "  </svg>\n",
              "    </button>\n",
              "\n",
              "  <style>\n",
              "    .colab-df-container {\n",
              "      display:flex;\n",
              "      gap: 12px;\n",
              "    }\n",
              "\n",
              "    .colab-df-convert {\n",
              "      background-color: #E8F0FE;\n",
              "      border: none;\n",
              "      border-radius: 50%;\n",
              "      cursor: pointer;\n",
              "      display: none;\n",
              "      fill: #1967D2;\n",
              "      height: 32px;\n",
              "      padding: 0 0 0 0;\n",
              "      width: 32px;\n",
              "    }\n",
              "\n",
              "    .colab-df-convert:hover {\n",
              "      background-color: #E2EBFA;\n",
              "      box-shadow: 0px 1px 2px rgba(60, 64, 67, 0.3), 0px 1px 3px 1px rgba(60, 64, 67, 0.15);\n",
              "      fill: #174EA6;\n",
              "    }\n",
              "\n",
              "    .colab-df-buttons div {\n",
              "      margin-bottom: 4px;\n",
              "    }\n",
              "\n",
              "    [theme=dark] .colab-df-convert {\n",
              "      background-color: #3B4455;\n",
              "      fill: #D2E3FC;\n",
              "    }\n",
              "\n",
              "    [theme=dark] .colab-df-convert:hover {\n",
              "      background-color: #434B5C;\n",
              "      box-shadow: 0px 1px 3px 1px rgba(0, 0, 0, 0.15);\n",
              "      filter: drop-shadow(0px 1px 2px rgba(0, 0, 0, 0.3));\n",
              "      fill: #FFFFFF;\n",
              "    }\n",
              "  </style>\n",
              "\n",
              "    <script>\n",
              "      const buttonEl =\n",
              "        document.querySelector('#df-c3130352-4ae9-403a-8e32-40f71d410f9f button.colab-df-convert');\n",
              "      buttonEl.style.display =\n",
              "        google.colab.kernel.accessAllowed ? 'block' : 'none';\n",
              "\n",
              "      async function convertToInteractive(key) {\n",
              "        const element = document.querySelector('#df-c3130352-4ae9-403a-8e32-40f71d410f9f');\n",
              "        const dataTable =\n",
              "          await google.colab.kernel.invokeFunction('convertToInteractive',\n",
              "                                                    [key], {});\n",
              "        if (!dataTable) return;\n",
              "\n",
              "        const docLinkHtml = 'Like what you see? Visit the ' +\n",
              "          '<a target=\"_blank\" href=https://colab.research.google.com/notebooks/data_table.ipynb>data table notebook</a>'\n",
              "          + ' to learn more about interactive tables.';\n",
              "        element.innerHTML = '';\n",
              "        dataTable['output_type'] = 'display_data';\n",
              "        await google.colab.output.renderOutput(dataTable, element);\n",
              "        const docLink = document.createElement('div');\n",
              "        docLink.innerHTML = docLinkHtml;\n",
              "        element.appendChild(docLink);\n",
              "      }\n",
              "    </script>\n",
              "  </div>\n",
              "\n",
              "\n",
              "    <div id=\"df-dfd4ce33-c8b5-4366-a3c3-c37fe73f6f51\">\n",
              "      <button class=\"colab-df-quickchart\" onclick=\"quickchart('df-dfd4ce33-c8b5-4366-a3c3-c37fe73f6f51')\"\n",
              "                title=\"Suggest charts\"\n",
              "                style=\"display:none;\">\n",
              "\n",
              "<svg xmlns=\"http://www.w3.org/2000/svg\" height=\"24px\"viewBox=\"0 0 24 24\"\n",
              "     width=\"24px\">\n",
              "    <g>\n",
              "        <path d=\"M19 3H5c-1.1 0-2 .9-2 2v14c0 1.1.9 2 2 2h14c1.1 0 2-.9 2-2V5c0-1.1-.9-2-2-2zM9 17H7v-7h2v7zm4 0h-2V7h2v10zm4 0h-2v-4h2v4z\"/>\n",
              "    </g>\n",
              "</svg>\n",
              "      </button>\n",
              "\n",
              "<style>\n",
              "  .colab-df-quickchart {\n",
              "      --bg-color: #E8F0FE;\n",
              "      --fill-color: #1967D2;\n",
              "      --hover-bg-color: #E2EBFA;\n",
              "      --hover-fill-color: #174EA6;\n",
              "      --disabled-fill-color: #AAA;\n",
              "      --disabled-bg-color: #DDD;\n",
              "  }\n",
              "\n",
              "  [theme=dark] .colab-df-quickchart {\n",
              "      --bg-color: #3B4455;\n",
              "      --fill-color: #D2E3FC;\n",
              "      --hover-bg-color: #434B5C;\n",
              "      --hover-fill-color: #FFFFFF;\n",
              "      --disabled-bg-color: #3B4455;\n",
              "      --disabled-fill-color: #666;\n",
              "  }\n",
              "\n",
              "  .colab-df-quickchart {\n",
              "    background-color: var(--bg-color);\n",
              "    border: none;\n",
              "    border-radius: 50%;\n",
              "    cursor: pointer;\n",
              "    display: none;\n",
              "    fill: var(--fill-color);\n",
              "    height: 32px;\n",
              "    padding: 0;\n",
              "    width: 32px;\n",
              "  }\n",
              "\n",
              "  .colab-df-quickchart:hover {\n",
              "    background-color: var(--hover-bg-color);\n",
              "    box-shadow: 0 1px 2px rgba(60, 64, 67, 0.3), 0 1px 3px 1px rgba(60, 64, 67, 0.15);\n",
              "    fill: var(--button-hover-fill-color);\n",
              "  }\n",
              "\n",
              "  .colab-df-quickchart-complete:disabled,\n",
              "  .colab-df-quickchart-complete:disabled:hover {\n",
              "    background-color: var(--disabled-bg-color);\n",
              "    fill: var(--disabled-fill-color);\n",
              "    box-shadow: none;\n",
              "  }\n",
              "\n",
              "  .colab-df-spinner {\n",
              "    border: 2px solid var(--fill-color);\n",
              "    border-color: transparent;\n",
              "    border-bottom-color: var(--fill-color);\n",
              "    animation:\n",
              "      spin 1s steps(1) infinite;\n",
              "  }\n",
              "\n",
              "  @keyframes spin {\n",
              "    0% {\n",
              "      border-color: transparent;\n",
              "      border-bottom-color: var(--fill-color);\n",
              "      border-left-color: var(--fill-color);\n",
              "    }\n",
              "    20% {\n",
              "      border-color: transparent;\n",
              "      border-left-color: var(--fill-color);\n",
              "      border-top-color: var(--fill-color);\n",
              "    }\n",
              "    30% {\n",
              "      border-color: transparent;\n",
              "      border-left-color: var(--fill-color);\n",
              "      border-top-color: var(--fill-color);\n",
              "      border-right-color: var(--fill-color);\n",
              "    }\n",
              "    40% {\n",
              "      border-color: transparent;\n",
              "      border-right-color: var(--fill-color);\n",
              "      border-top-color: var(--fill-color);\n",
              "    }\n",
              "    60% {\n",
              "      border-color: transparent;\n",
              "      border-right-color: var(--fill-color);\n",
              "    }\n",
              "    80% {\n",
              "      border-color: transparent;\n",
              "      border-right-color: var(--fill-color);\n",
              "      border-bottom-color: var(--fill-color);\n",
              "    }\n",
              "    90% {\n",
              "      border-color: transparent;\n",
              "      border-bottom-color: var(--fill-color);\n",
              "    }\n",
              "  }\n",
              "</style>\n",
              "\n",
              "      <script>\n",
              "        async function quickchart(key) {\n",
              "          const quickchartButtonEl =\n",
              "            document.querySelector('#' + key + ' button');\n",
              "          quickchartButtonEl.disabled = true;  // To prevent multiple clicks.\n",
              "          quickchartButtonEl.classList.add('colab-df-spinner');\n",
              "          try {\n",
              "            const charts = await google.colab.kernel.invokeFunction(\n",
              "                'suggestCharts', [key], {});\n",
              "          } catch (error) {\n",
              "            console.error('Error during call to suggestCharts:', error);\n",
              "          }\n",
              "          quickchartButtonEl.classList.remove('colab-df-spinner');\n",
              "          quickchartButtonEl.classList.add('colab-df-quickchart-complete');\n",
              "        }\n",
              "        (() => {\n",
              "          let quickchartButtonEl =\n",
              "            document.querySelector('#df-dfd4ce33-c8b5-4366-a3c3-c37fe73f6f51 button');\n",
              "          quickchartButtonEl.style.display =\n",
              "            google.colab.kernel.accessAllowed ? 'block' : 'none';\n",
              "        })();\n",
              "      </script>\n",
              "    </div>\n",
              "\n",
              "  <div id=\"id_97df7b55-b249-439e-ab93-622ba19457f5\">\n",
              "    <style>\n",
              "      .colab-df-generate {\n",
              "        background-color: #E8F0FE;\n",
              "        border: none;\n",
              "        border-radius: 50%;\n",
              "        cursor: pointer;\n",
              "        display: none;\n",
              "        fill: #1967D2;\n",
              "        height: 32px;\n",
              "        padding: 0 0 0 0;\n",
              "        width: 32px;\n",
              "      }\n",
              "\n",
              "      .colab-df-generate:hover {\n",
              "        background-color: #E2EBFA;\n",
              "        box-shadow: 0px 1px 2px rgba(60, 64, 67, 0.3), 0px 1px 3px 1px rgba(60, 64, 67, 0.15);\n",
              "        fill: #174EA6;\n",
              "      }\n",
              "\n",
              "      [theme=dark] .colab-df-generate {\n",
              "        background-color: #3B4455;\n",
              "        fill: #D2E3FC;\n",
              "      }\n",
              "\n",
              "      [theme=dark] .colab-df-generate:hover {\n",
              "        background-color: #434B5C;\n",
              "        box-shadow: 0px 1px 3px 1px rgba(0, 0, 0, 0.15);\n",
              "        filter: drop-shadow(0px 1px 2px rgba(0, 0, 0, 0.3));\n",
              "        fill: #FFFFFF;\n",
              "      }\n",
              "    </style>\n",
              "    <button class=\"colab-df-generate\" onclick=\"generateWithVariable('data')\"\n",
              "            title=\"Generate code using this dataframe.\"\n",
              "            style=\"display:none;\">\n",
              "\n",
              "  <svg xmlns=\"http://www.w3.org/2000/svg\" height=\"24px\"viewBox=\"0 0 24 24\"\n",
              "       width=\"24px\">\n",
              "    <path d=\"M7,19H8.4L18.45,9,17,7.55,7,17.6ZM5,21V16.75L18.45,3.32a2,2,0,0,1,2.83,0l1.4,1.43a1.91,1.91,0,0,1,.58,1.4,1.91,1.91,0,0,1-.58,1.4L9.25,21ZM18.45,9,17,7.55Zm-12,3A5.31,5.31,0,0,0,4.9,8.1,5.31,5.31,0,0,0,1,6.5,5.31,5.31,0,0,0,4.9,4.9,5.31,5.31,0,0,0,6.5,1,5.31,5.31,0,0,0,8.1,4.9,5.31,5.31,0,0,0,12,6.5,5.46,5.46,0,0,0,6.5,12Z\"/>\n",
              "  </svg>\n",
              "    </button>\n",
              "    <script>\n",
              "      (() => {\n",
              "      const buttonEl =\n",
              "        document.querySelector('#id_97df7b55-b249-439e-ab93-622ba19457f5 button.colab-df-generate');\n",
              "      buttonEl.style.display =\n",
              "        google.colab.kernel.accessAllowed ? 'block' : 'none';\n",
              "\n",
              "      buttonEl.onclick = () => {\n",
              "        google.colab.notebook.generateWithVariable('data');\n",
              "      }\n",
              "      })();\n",
              "    </script>\n",
              "  </div>\n",
              "\n",
              "    </div>\n",
              "  </div>\n"
            ],
            "application/vnd.google.colaboratory.intrinsic+json": {
              "type": "dataframe",
              "variable_name": "data",
              "summary": "{\n  \"name\": \"data\",\n  \"rows\": 2429,\n  \"fields\": [\n    {\n      \"column\": \"index\",\n      \"properties\": {\n        \"dtype\": \"number\",\n        \"std\": 701,\n        \"min\": 0,\n        \"max\": 2428,\n        \"num_unique_values\": 2429,\n        \"samples\": [\n          2411,\n          1488,\n          788\n        ],\n        \"semantic_type\": \"\",\n        \"description\": \"\"\n      }\n    },\n    {\n      \"column\": \"title\",\n      \"properties\": {\n        \"dtype\": \"string\",\n        \"num_unique_values\": 2429,\n        \"samples\": [\n          \"Beautiful government determine board nation.\",\n          \"Case answer side best she key study side.\",\n          \"Movement choice glass hair possible.\"\n        ],\n        \"semantic_type\": \"\",\n        \"description\": \"\"\n      }\n    },\n    {\n      \"column\": \"text\",\n      \"properties\": {\n        \"dtype\": \"string\",\n        \"num_unique_values\": 2429,\n        \"samples\": [\n          \"build let once important participant really become suffer religious more arm continue go two yourself fall past wind ten foreign recognize herself consider seven address stay from fish public between guy reflect seat national student bag cost lawyer easy wrong evidence my room I laugh only them campaign north day natural according safe mean seek majority guy worry these more everybody minute business green learn eye boy get home campaign full act follow city bank imagine low treatment second huge show risk candidate forward floor and military forget measure at Mr unit example down hospital father practice seek approach study form support fast apply system possible seek task citizen hour suffer church next window picture factor different door according thus watch young shoulder ten election religious different kitchen second several movie another you assume many ball today all perform audience audience few around consumer record fish soon know power building chair they cut mother value down subject with always than as large discuss hand produce mission information themselves capital never case major quickly us word stop control real rate language dinner authority majority room relate case policy not between executive war decision someone since community member prepare newspaper road ever push real reason focus night what usually station each rock common else hard site Democrat off truth management represent forget suggest bank keep property\",\n          \"possible film third president how develop course trade door collection food assume camera answer only some fact good trouble bar study himself southern human each this time simple seek threat else party little open yourself measure start begin school leave him leader again yet although enjoy moment can watch inside win kitchen dinner education bag budget make subject inside bill throughout cold company ok create movement physical guess unit allow group realize song with sort our foreign return and feeling beat image ball use indicate individual too leave might nor foreign music street from music training will team too moment tough become trip doctor nice beyond center any executive drive movie out method attention arrive miss international sure rock condition animal dream central beat along increase serve although research establish create field good image keep cut guess edge father Democrat see often relationship whom seem price teach two four impact worker call glass cost visit prove both relate against doctor item son forget language yet shake education father day blood gun cup clear level try focus management particular response instead training security shake wonder go for tonight recently fish story likely effort reality moment security fly including base campaign west development meet pretty maybe create religious yet still to cell include star impact rock stock fire interest however TV air six right be reduce mind wife first more wind career main apply art there fall lose fund high next investment newspaper nice kid fire institution thank left market picture sister along drive blue option team this each attention do easy store consider daughter build poor know really way born expect also throw tend cost front listen former company grow official yes beyond about part month great current memory laugh raise discussion form vote although election past paper\",\n          \"only body before up could report will oil trial board themselves fly seven soon write degree different look me piece deal space stage sound adult method happen small everything member listen wife usually sense particularly college pay feeling worker action some vote future be thank dream involve little goal guess dinner career camera not bag news owner fact bit let than over career there follow onto total center central ten top common attention authority that policy easy discover house director clearly key land herself first no plan now new reflect itself foreign check writer value contain tree continue put provide animal third wonder though some manager certain her mean base strong gun product process interesting protect plant recently enter girl rich everybody admit draw and between one somebody blood officer break fact read move apply government wait return attention assume put only will present here seat eat glass already building movement and often structure generation knowledge character public foot international late continue often somebody thought write room audience early know local heavy heavy their other than few point college step space note give detail blue suddenly travel behind provide free property generation crime economic make miss behind indicate ever expert personal soldier do throughout now big not produce institution consumer reach lead often black outside start wear enough project good before head sign hundred director foot structure shake time democratic already board suffer catch just window year center physical information start west left technology improve job meeting reason let cover low service political low animal figure example economy ability market become before race magazine not several any more on various right wait economic author\"\n        ],\n        \"semantic_type\": \"\",\n        \"description\": \"\"\n      }\n    },\n    {\n      \"column\": \"date\",\n      \"properties\": {\n        \"dtype\": \"object\",\n        \"num_unique_values\": 988,\n        \"samples\": [\n          \"2024-12-01\",\n          \"2023-07-02\",\n          \"2024-08-19\"\n        ],\n        \"semantic_type\": \"\",\n        \"description\": \"\"\n      }\n    },\n    {\n      \"column\": \"source\",\n      \"properties\": {\n        \"dtype\": \"category\",\n        \"num_unique_values\": 8,\n        \"samples\": [\n          \"Fox News\",\n          \"Global Times\",\n          \"NY Times\"\n        ],\n        \"semantic_type\": \"\",\n        \"description\": \"\"\n      }\n    },\n    {\n      \"column\": \"author\",\n      \"properties\": {\n        \"dtype\": \"string\",\n        \"num_unique_values\": 2254,\n        \"samples\": [\n          \"Christy Davis\",\n          \"Tammy Bryant\",\n          \"Michael Ward\"\n        ],\n        \"semantic_type\": \"\",\n        \"description\": \"\"\n      }\n    },\n    {\n      \"column\": \"category\",\n      \"properties\": {\n        \"dtype\": \"category\",\n        \"num_unique_values\": 7,\n        \"samples\": [\n          \"Politics\",\n          \"Business\",\n          \"Sports\"\n        ],\n        \"semantic_type\": \"\",\n        \"description\": \"\"\n      }\n    },\n    {\n      \"column\": \"label\",\n      \"properties\": {\n        \"dtype\": \"category\",\n        \"num_unique_values\": 2,\n        \"samples\": [\n          \"fake\",\n          \"real\"\n        ],\n        \"semantic_type\": \"\",\n        \"description\": \"\"\n      }\n    }\n  ]\n}"
            }
          },
          "metadata": {},
          "execution_count": 10
        }
      ]
    },
    {
      "cell_type": "code",
      "source": [
        "#balance or imbalanced data\n",
        "\n",
        "# Plot count of labels\n",
        "ax = sns.countplot(x='label', data=data)\n",
        "\n",
        "# Add counts on top of bars\n",
        "for bar in ax.patches:\n",
        "    count = int(bar.get_height())\n",
        "    ax.annotate(str(count),\n",
        "                xy=(bar.get_x() + bar.get_width() / 2, count),\n",
        "                ha='center', va='bottom', fontsize=10)\n",
        "\n",
        "plt.show()\n"
      ],
      "metadata": {
        "colab": {
          "base_uri": "https://localhost:8080/",
          "height": 449
        },
        "id": "TOWc4p1AuHuV",
        "outputId": "0b7642f7-f96e-464f-ebca-aabe06a08279"
      },
      "id": "TOWc4p1AuHuV",
      "execution_count": null,
      "outputs": [
        {
          "output_type": "display_data",
          "data": {
            "text/plain": [
              "<Figure size 640x480 with 1 Axes>"
            ],
            "image/png": "[encoded data removed]"
          },
          "metadata": {}
        }
      ]
    },
    {
      "cell_type": "code",
      "source": [
        "text = data['text'][0]                          # Get one text\n"
      ],
      "metadata": {
        "id": "6JFGnzc0ucFE"
      },
      "id": "6JFGnzc0ucFE",
      "execution_count": null,
      "outputs": []
    },
    {
      "cell_type": "code",
      "source": [
        "#regular expression\n",
        "import re\n",
        "text = re.sub('[^a-zA-Z]', ' ', text)    #Remove unwanted chars"
      ],
      "metadata": {
        "id": "psyHVlGxyB-a"
      },
      "id": "psyHVlGxyB-a",
      "execution_count": null,
      "outputs": []
    },
    {
      "cell_type": "code",
      "source": [
        "#changing to lower case\n",
        "text=text.lower()"
      ],
      "metadata": {
        "id": "qzZgDSR6yX0-"
      },
      "id": "qzZgDSR6yX0-",
      "execution_count": null,
      "outputs": []
    },
    {
      "cell_type": "code",
      "source": [
        "#split the text\n",
        "for t in text:\n",
        "    words = t.split()\n",
        "    print(words)"
      ],
      "metadata": {
        "colab": {
          "base_uri": "https://localhost:8080/"
        },
        "id": "munxFrZzzBnm",
        "outputId": "83d27a1a-a13e-4030-dd24-0298a76f1734"
      },
      "id": "munxFrZzzBnm",
      "execution_count": null,
      "outputs": [
        {
          "output_type": "stream",
          "name": "stdout",
          "text": [
            "['more']\n",
            "['tax']\n",
            "['development']\n",
            "['both']\n",
            "['store']\n",
            "['agreement']\n",
            "['lawyer']\n",
            "['hear']\n",
            "['outside']\n",
            "['continue']\n",
            "['reach']\n",
            "['difference']\n",
            "['yeah']\n",
            "['figure']\n",
            "['your']\n",
            "['power']\n",
            "['fear']\n",
            "['identify']\n",
            "['there']\n",
            "['protect']\n",
            "['security']\n",
            "['great']\n",
            "['national']\n",
            "['nothing']\n",
            "['fast']\n",
            "['story']\n",
            "['why']\n",
            "['late']\n",
            "['nearly']\n",
            "['bit']\n",
            "['cost']\n",
            "['tough']\n",
            "['since']\n",
            "['question']\n",
            "['to']\n",
            "['power']\n",
            "['almost']\n",
            "['future']\n",
            "['young']\n",
            "['conference']\n",
            "['behind']\n",
            "['ahead']\n",
            "['building']\n",
            "['teach']\n",
            "['million']\n",
            "['box']\n",
            "['receive']\n",
            "['mrs']\n",
            "['risk']\n",
            "['benefit']\n",
            "['month']\n",
            "['compare']\n",
            "['environment']\n",
            "['class']\n",
            "['imagine']\n",
            "['you']\n",
            "['vote']\n",
            "['community']\n",
            "['reason']\n",
            "['set']\n",
            "['once']\n",
            "['idea']\n",
            "['him']\n",
            "['answer']\n",
            "['many']\n",
            "['how']\n",
            "['purpose']\n",
            "['deep']\n",
            "['training']\n",
            "['game']\n",
            "['own']\n",
            "['true']\n",
            "['language']\n",
            "['garden']\n",
            "['of']\n",
            "['partner']\n",
            "['result']\n",
            "['face']\n",
            "['military']\n",
            "['discover']\n",
            "['discover']\n",
            "['data']\n",
            "['glass']\n",
            "['bed']\n",
            "['maintain']\n",
            "['test']\n",
            "['way']\n",
            "['development']\n",
            "['across']\n",
            "['top']\n",
            "['culture']\n",
            "['glass']\n",
            "['yes']\n",
            "['decision']\n",
            "['hope']\n",
            "['necessary']\n",
            "['as']\n",
            "['trade']\n",
            "['organization']\n",
            "['talk']\n",
            "['debate']\n",
            "['peace']\n",
            "['stay']\n",
            "['community']\n",
            "['development']\n",
            "['six']\n",
            "['wide']\n",
            "['write']\n",
            "['itself']\n",
            "['several']\n",
            "['fight']\n",
            "['teach']\n",
            "['billion']\n",
            "['for']\n",
            "['common']\n",
            "['fear']\n",
            "['we']\n",
            "['personal']\n",
            "['church']\n",
            "['establish']\n",
            "['store']\n",
            "['kind']\n",
            "['hundred']\n",
            "['debate']\n",
            "['hotel']\n",
            "['cut']\n",
            "['sister']\n",
            "['audience']\n",
            "['sound']\n",
            "['case']\n",
            "['that']\n",
            "['stay']\n",
            "['within']\n",
            "['information']\n",
            "['trouble']\n",
            "['be']\n",
            "['debate']\n",
            "['great']\n",
            "['themselves']\n",
            "['responsibility']\n",
            "['force']\n",
            "['people']\n",
            "['hundred']\n",
            "['bar']\n",
            "['miss']\n",
            "['others']\n",
            "['sometimes']\n",
            "['build']\n",
            "['room']\n",
            "['interesting']\n",
            "['however']\n",
            "['charge']\n",
            "['what']\n",
            "['especially']\n",
            "['north']\n",
            "['no']\n",
            "['especially']\n",
            "['us']\n",
            "['travel']\n",
            "['industry']\n",
            "['about']\n",
            "['including']\n",
            "['face']\n",
            "['ten']\n",
            "['behind']\n",
            "['black']\n",
            "['series']\n",
            "['place']\n",
            "['age']\n",
            "['soldier']\n",
            "['early']\n",
            "['trouble']\n",
            "['middle']\n",
            "['would']\n",
            "['along']\n",
            "['case']\n",
            "['what']\n",
            "['money']\n",
            "['significant']\n",
            "['sound']\n",
            "['song']\n",
            "['reason']\n",
            "['poor']\n",
            "['free']\n",
            "['want']\n",
            "['thank']\n",
            "['cultural']\n",
            "['range']\n",
            "['shoulder']\n",
            "['rest']\n",
            "['movie']\n",
            "['political']\n",
            "['fear']\n",
            "['hear']\n",
            "['past']\n",
            "['leader']\n",
            "['up']\n",
            "['edge']\n",
            "['professor']\n",
            "['determine']\n",
            "['law']\n",
            "['act']\n",
            "['change']\n",
            "['middle']\n",
            "['prove']\n",
            "['say']\n",
            "['notice']\n",
            "['travel']\n",
            "['open']\n",
            "['director']\n",
            "['argue']\n",
            "['economic']\n",
            "['seven']\n",
            "['game']\n",
            "['matter']\n",
            "['season']\n"
          ]
        }
      ]
    },
    {
      "cell_type": "code",
      "source": [
        "#remove the stop words from the text in any\n",
        "from nltk.corpus import stopwords\n",
        "from nltk.stem.porter import PorterStemmer\n",
        "nltk.download('stopwords')"
      ],
      "metadata": {
        "colab": {
          "base_uri": "https://localhost:8080/"
        },
        "id": "nLxFzeUDzONd",
        "outputId": "b317af95-2962-40ec-9cae-c0cee6521af1"
      },
      "id": "nLxFzeUDzONd",
      "execution_count": null,
      "outputs": [
        {
          "output_type": "stream",
          "name": "stderr",
          "text": [
            "[nltk_data] Downloading package stopwords to /root/nltk_data...\n",
            "[nltk_data]   Unzipping corpora/stopwords.zip.\n"
          ]
        },
        {
          "output_type": "execute_result",
          "data": {
            "text/plain": [
              "True"
            ]
          },
          "metadata": {},
          "execution_count": 40
        }
      ]
    },
    {
      "cell_type": "code",
      "source": [
        "ps=PorterStemmer()\n",
        "cleaned=[ps.stem(word) for word in list if not word in stopwords.words('english')]\n"
      ],
      "metadata": {
        "id": "ns8jLrEYzmLp"
      },
      "id": "ns8jLrEYzmLp",
      "execution_count": null,
      "outputs": []
    },
    {
      "cell_type": "code",
      "source": [
        "cleaned"
      ],
      "metadata": {
        "colab": {
          "base_uri": "https://localhost:8080/"
        },
        "id": "Shjb3HeD0GL-",
        "outputId": "9106186d-9389-47be-dfd2-c18a265d7ae3"
      },
      "id": "Shjb3HeD0GL-",
      "execution_count": null,
      "outputs": [
        {
          "output_type": "execute_result",
          "data": {
            "text/plain": [
              "[]"
            ]
          },
          "metadata": {},
          "execution_count": 72
        }
      ]
    },
    {
      "cell_type": "code",
      "source": [
        "final = ' '.join(cleaned)\n",
        "final"
      ],
      "metadata": {
        "colab": {
          "base_uri": "https://localhost:8080/",
          "height": 35
        },
        "id": "0KOlR8wK0cx-",
        "outputId": "8e1910de-121c-40f4-a577-bfb76cf8b507"
      },
      "id": "0KOlR8wK0cx-",
      "execution_count": null,
      "outputs": [
        {
          "output_type": "execute_result",
          "data": {
            "text/plain": [
              "''"
            ],
            "application/vnd.google.colaboratory.intrinsic+json": {
              "type": "string"
            }
          },
          "metadata": {},
          "execution_count": 73
        }
      ]
    },
    {
      "cell_type": "code",
      "source": [
        "corpus = []\n",
        "\n",
        "for i in range(len(data)):\n",
        "    text = re.sub('[^a-zA-Z]', ' ', data['text'][i])\n",
        "    text = text.lower()\n",
        "    words = text.split()\n",
        "    review = [ps.stem(word) for word in words if word not in stopwords.words('english')]\n",
        "    corpus.append(' '.join(review))\n",
        "\n"
      ],
      "metadata": {
        "id": "ZbNd-owR0jbF"
      },
      "id": "ZbNd-owR0jbF",
      "execution_count": null,
      "outputs": []
    },
    {
      "cell_type": "code",
      "source": [
        "corpus[25]"
      ],
      "metadata": {
        "colab": {
          "base_uri": "https://localhost:8080/",
          "height": 157
        },
        "id": "Sn5rqKBG1M_C",
        "outputId": "b9b2faa7-602f-406a-89c0-a0ed1c8f780a"
      },
      "id": "Sn5rqKBG1M_C",
      "execution_count": null,
      "outputs": [
        {
          "output_type": "execute_result",
          "data": {
            "text/plain": [
              "'believ impact surfac relationship set throughout pressur seat name respond option join signific discuss simpl threat anoth whatev enter shoulder environ relat place describ food smile degre attack owner standard offic actual determin simpl memori teach remain plant differ rang budget bit affect simpl throw mention song like camera structur go cut attorney case rest decis near team half administr ahead deep polit within simpl environment evid mr style person agre worri detail certainli wait box born suggest expert pattern tri hold measur coach year debat energi econom support tri million wish find without indic clear care stuff ga product hospit articl firm mr effort morn black son time maintain member rest skin realiz energi knowledg member newspap contain draw magazin goal dark gener eye clearli alway order institut minut capit page model church govern test item behind parti meet build pull somebodi may fli woman start eat ago differ travel even end site fear real middl billion chanc religi employe bit evid health east suffer singl bed writer cultur surfac step assum light north paper crime suddenli think game draw know media simpl pass fli anoth human choic pull machin full say occur individu eye line certainli vote know trade sever site view natur'"
            ],
            "application/vnd.google.colaboratory.intrinsic+json": {
              "type": "string"
            }
          },
          "metadata": {},
          "execution_count": 75
        }
      ]
    },
    {
      "cell_type": "code",
      "source": [
        "#bag of words model\n",
        "from sklearn.feature_extraction.text import CountVectorizer\n",
        "cv=CountVectorizer()\n",
        "x=cv.fit_transform(corpus).toarray()\n"
      ],
      "metadata": {
        "id": "zYbvsn8x1fDe"
      },
      "id": "zYbvsn8x1fDe",
      "execution_count": null,
      "outputs": []
    },
    {
      "cell_type": "code",
      "source": [
        "x.shape"
      ],
      "metadata": {
        "colab": {
          "base_uri": "https://localhost:8080/"
        },
        "id": "ZK31ZYby17PF",
        "outputId": "97d4a013-c85f-4b6a-f9dc-b593a59546e6"
      },
      "id": "ZK31ZYby17PF",
      "execution_count": null,
      "outputs": [
        {
          "output_type": "execute_result",
          "data": {
            "text/plain": [
              "(18045, 839)"
            ]
          },
          "metadata": {},
          "execution_count": 77
        }
      ]
    },
    {
      "cell_type": "code",
      "source": [
        "x[0]"
      ],
      "metadata": {
        "colab": {
          "base_uri": "https://localhost:8080/"
        },
        "id": "jgYXIsiUAsg4",
        "outputId": "b49120d0-88c5-43f0-804b-8d3ec0f55366"
      },
      "id": "jgYXIsiUAsg4",
      "execution_count": null,
      "outputs": [
        {
          "output_type": "execute_result",
          "data": {
            "text/plain": [
              "array([0, 0, 0, 0, 0, 1, 1, 0, 0, 0, 0, 0, 0, 0, 0, 0, 1, 0, 0, 0, 0, 1,\n",
              "       1, 0, 0, 1, 0, 1, 0, 0, 0, 0, 0, 0, 0, 0, 0, 0, 1, 0, 0, 0, 0, 0,\n",
              "       0, 1, 0, 0, 0, 0, 0, 0, 0, 0, 0, 0, 0, 1, 0, 0, 0, 0, 0, 0, 0, 0,\n",
              "       0, 0, 1, 0, 0, 0, 0, 1, 0, 0, 2, 0, 1, 0, 0, 0, 0, 0, 1, 1, 1, 0,\n",
              "       0, 0, 0, 0, 0, 1, 0, 0, 0, 0, 0, 2, 0, 0, 0, 0, 0, 0, 0, 0, 0, 0,\n",
              "       0, 0, 2, 0, 0, 0, 0, 0, 0, 0, 0, 0, 0, 0, 1, 0, 1, 0, 0, 0, 0, 1,\n",
              "       0, 0, 0, 0, 1, 0, 0, 0, 0, 0, 0, 0, 0, 0, 1, 2, 0, 1, 0, 0, 0, 1,\n",
              "       0, 0, 0, 0, 1, 0, 1, 0, 0, 0, 0, 0, 0, 0, 0, 2, 0, 0, 0, 1, 0, 1,\n",
              "       0, 0, 0, 3, 0, 0, 1, 1, 0, 0, 0, 0, 0, 0, 0, 1, 3, 1, 0, 0, 0, 1,\n",
              "       2, 0, 0, 0, 0, 0, 0, 0, 0, 0, 1, 0, 0, 0, 1, 0, 1, 0, 0, 0, 0, 0,\n",
              "       0, 0, 0, 0, 0, 0, 0, 0, 0, 1, 0, 2, 1, 0, 0, 0, 0, 0, 0, 0, 0, 0,\n",
              "       0, 0, 0, 0, 0, 0, 0, 0, 2, 0, 0, 0, 0, 0, 1, 0, 3, 0, 0, 0, 1, 1,\n",
              "       0, 0, 0, 0, 0, 0, 0, 0, 0, 0, 0, 0, 0, 0, 0, 0, 0, 0, 1, 0, 0, 0,\n",
              "       0, 0, 0, 1, 0, 0, 0, 0, 1, 0, 2, 1, 0, 0, 0, 0, 2, 0, 0, 0, 0, 2,\n",
              "       0, 0, 0, 0, 0, 0, 0, 0, 0, 0, 0, 0, 0, 0, 0, 0, 2, 0, 0, 0, 0, 0,\n",
              "       0, 0, 0, 1, 0, 0, 1, 0, 0, 1, 0, 0, 2, 0, 1, 1, 0, 1, 0, 0, 0, 1,\n",
              "       0, 0, 0, 0, 1, 1, 0, 0, 0, 1, 0, 0, 0, 0, 0, 0, 0, 0, 0, 0, 0, 1,\n",
              "       0, 0, 0, 0, 1, 0, 0, 1, 0, 0, 1, 1, 0, 0, 1, 0, 0, 0, 0, 0, 0, 0,\n",
              "       0, 0, 0, 0, 0, 0, 0, 0, 0, 0, 0, 0, 0, 0, 0, 0, 0, 0, 0, 0, 1, 0,\n",
              "       0, 0, 0, 1, 0, 0, 0, 1, 0, 0, 0, 0, 0, 0, 0, 0, 0, 0, 0, 0, 2, 0,\n",
              "       1, 1, 0, 0, 1, 0, 0, 0, 0, 1, 1, 0, 0, 0, 0, 0, 1, 1, 0, 0, 0, 0,\n",
              "       1, 0, 0, 1, 1, 0, 0, 0, 0, 0, 0, 0, 0, 0, 0, 1, 0, 1, 1, 0, 0, 0,\n",
              "       0, 0, 0, 0, 0, 0, 0, 0, 1, 0, 0, 0, 0, 1, 1, 1, 0, 0, 0, 0, 0, 0,\n",
              "       0, 0, 0, 0, 1, 0, 1, 0, 0, 1, 1, 0, 0, 0, 1, 0, 0, 0, 0, 0, 1, 0,\n",
              "       0, 0, 0, 0, 0, 0, 0, 1, 1, 0, 0, 0, 0, 2, 0, 0, 0, 0, 0, 0, 0, 0,\n",
              "       0, 0, 0, 0, 0, 1, 0, 0, 0, 1, 1, 0, 0, 0, 1, 0, 0, 0, 1, 0, 0, 0,\n",
              "       0, 0, 1, 0, 0, 1, 0, 0, 0, 0, 0, 0, 2, 1, 0, 0, 0, 0, 0, 0, 0, 0,\n",
              "       0, 0, 0, 0, 0, 0, 0, 0, 0, 0, 0, 1, 1, 1, 0, 0, 0, 0, 0, 1, 0, 0,\n",
              "       0, 1, 0, 0, 0, 0, 1, 0, 0, 0, 0, 0, 0, 1, 0, 0, 0, 1, 0, 0, 0, 0,\n",
              "       0, 0, 0, 1, 0, 0, 0, 1, 1, 1, 0, 0, 0, 1, 0, 0, 0, 1, 0, 0, 0, 1,\n",
              "       0, 0, 1, 0, 0, 0, 1, 0, 0, 0, 0, 0, 0, 0, 1, 0, 0, 0, 1, 0, 1, 0,\n",
              "       0, 2, 0, 0, 0, 0, 0, 0, 0, 0, 0, 0, 0, 0, 0, 0, 0, 0, 0, 0, 0, 0,\n",
              "       2, 0, 0, 0, 0, 2, 1, 0, 0, 0, 0, 0, 0, 0, 0, 0, 0, 0, 0, 0, 0, 0,\n",
              "       0, 0, 0, 0, 0, 1, 0, 1, 2, 0, 0, 0, 0, 0, 1, 0, 0, 1, 1, 0, 0, 0,\n",
              "       0, 0, 0, 0, 0, 0, 0, 0, 0, 0, 0, 0, 0, 1, 0, 1, 0, 0, 1, 0, 1, 2,\n",
              "       0, 0, 0, 0, 0, 0, 2, 1, 0, 0, 0, 0, 0, 0, 0, 0, 1, 0, 0, 0, 0, 0,\n",
              "       0, 0, 1, 0, 0, 0, 1, 0, 0, 0, 1, 0, 0, 0, 0, 0, 0, 0, 0, 0, 0, 0,\n",
              "       1, 0, 0, 0, 0, 0, 1, 0, 0, 0, 0, 0, 0, 0, 0, 1, 1, 0, 0, 0, 1, 1,\n",
              "       0, 0, 1])"
            ]
          },
          "metadata": {},
          "execution_count": 78
        }
      ]
    },
    {
      "cell_type": "code",
      "source": [
        "from sklearn.model_selection import train_test_split\n",
        "from sklearn.feature_extraction.text import TfidfVectorizer\n",
        "\n",
        "# Vectorize text\n",
        "vectorizer = TfidfVectorizer()\n",
        "X = vectorizer.fit_transform(corpus)\n",
        "\n",
        "# Train-test split\n",
        "x_train, x_test, y_train, y_test = train_test_split(X, y, test_size=0.2, random_state=42)\n",
        "\n",
        "# Fit model\n",
        "from sklearn.ensemble import RandomForestClassifier\n",
        "re=RandomForestClassifier()\n",
        "re.fit(x_train, y_train)\n",
        "\n",
        "# Predict (no need to convert x_test again here, it's already 2D from TF-IDF)\n",
        "y_predict = lr.predict(x_test)\n"
      ],
      "metadata": {
        "id": "iAYw6q23DoME"
      },
      "id": "iAYw6q23DoME",
      "execution_count": null,
      "outputs": []
    },
    {
      "cell_type": "code",
      "source": [
        "x.shape"
      ],
      "metadata": {
        "colab": {
          "base_uri": "https://localhost:8080/"
        },
        "id": "RcEiJV15B9Db",
        "outputId": "75d4ef87-69d6-40da-d6a6-f1c7c8bf4a65"
      },
      "id": "RcEiJV15B9Db",
      "execution_count": null,
      "outputs": [
        {
          "output_type": "execute_result",
          "data": {
            "text/plain": [
              "(18045, 839)"
            ]
          },
          "metadata": {},
          "execution_count": 106
        }
      ]
    },
    {
      "cell_type": "code",
      "source": [
        "y.shape"
      ],
      "metadata": {
        "colab": {
          "base_uri": "https://localhost:8080/"
        },
        "id": "dEPraKYVFA3j",
        "outputId": "1f2ca373-21ab-4c95-db4d-f4b40112c53c"
      },
      "id": "dEPraKYVFA3j",
      "execution_count": null,
      "outputs": [
        {
          "output_type": "execute_result",
          "data": {
            "text/plain": [
              "(18045,)"
            ]
          },
          "metadata": {},
          "execution_count": 107
        }
      ]
    },
    {
      "cell_type": "code",
      "source": [
        "y_predict"
      ],
      "metadata": {
        "colab": {
          "base_uri": "https://localhost:8080/"
        },
        "id": "_w47H81_FCOW",
        "outputId": "3209d256-1407-47c1-ba5d-cc405db245e4"
      },
      "id": "_w47H81_FCOW",
      "execution_count": null,
      "outputs": [
        {
          "output_type": "execute_result",
          "data": {
            "text/plain": [
              "array([1, 1, 0, ..., 1, 1, 1])"
            ]
          },
          "metadata": {},
          "execution_count": 108
        }
      ]
    },
    {
      "cell_type": "code",
      "source": [
        "from sklearn.metrics import confusion_matrix,accuracy_score\n",
        "cm=confusion_matrix(y_test,y_predict)"
      ],
      "metadata": {
        "id": "U1aMLC5EFIOv"
      },
      "id": "U1aMLC5EFIOv",
      "execution_count": null,
      "outputs": []
    },
    {
      "cell_type": "code",
      "source": [
        "sns.heatmap(cm,annot=True)"
      ],
      "metadata": {
        "colab": {
          "base_uri": "https://localhost:8080/",
          "height": 447
        },
        "id": "cu3MHNKgFSL6",
        "outputId": "a6a4b7c0-dac8-4488-e540-21d215744294"
      },
      "id": "cu3MHNKgFSL6",
      "execution_count": null,
      "outputs": [
        {
          "output_type": "execute_result",
          "data": {
            "text/plain": [
              "<Axes: >"
            ]
          },
          "metadata": {},
          "execution_count": 118
        },
        {
          "output_type": "display_data",
          "data": {
            "text/plain": [
              "<Figure size 640x480 with 2 Axes>"
            ],
            "image/png": "[encoded data removed]"
          },
          "metadata": {}
        }
      ]
    },
    {
      "cell_type": "code",
      "source": [
        "accuracy=accuracy_score(y_test,y_predict)"
      ],
      "metadata": {
        "id": "HAcpQ1C9FXAd"
      },
      "id": "HAcpQ1C9FXAd",
      "execution_count": null,
      "outputs": []
    },
    {
      "cell_type": "code",
      "source": [
        "accuracy"
      ],
      "metadata": {
        "colab": {
          "base_uri": "https://localhost:8080/"
        },
        "id": "guE88OZKFf3Q",
        "outputId": "80b9db0f-aff0-4abd-8594-cba6455b344b"
      },
      "id": "guE88OZKFf3Q",
      "execution_count": null,
      "outputs": [
        {
          "output_type": "execute_result",
          "data": {
            "text/plain": [
              "0.5098365198115822"
            ]
          },
          "metadata": {},
          "execution_count": 120
        }
      ]
    },
    {
      "cell_type": "code",
      "source": [],
      "metadata": {
        "id": "OO0P2iIGFkUZ"
      },
      "id": "OO0P2iIGFkUZ",
      "execution_count": null,
      "outputs": []
    },
    {
      "cell_type": "code",
      "source": [
        "#using TF-IDF model"
      ],
      "metadata": {
        "id": "qauU3n4UGa0X"
      },
      "id": "qauU3n4UGa0X",
      "execution_count": 11,
      "outputs": []
    },
    {
      "cell_type": "code",
      "source": [
        "from sklearn.feature_extraction.text import TfidfVectorizer\n",
        "from sklearn.linear_model import LogisticRegression\n",
        "from sklearn.model_selection import train_test_split\n",
        "from sklearn.metrics import accuracy_score, classification_report\n",
        "import pandas as pd\n",
        "\n",
        "# Step 1: Load Data\n",
        "data = pd.read_csv('/content/fake_news_dataset.csv')\n",
        "\n",
        "# Step 2: Features and Labels\n",
        "X = data['text']        # Must be TEXT (not numbers)\n",
        "y = data['label']       # 0 or 1\n",
        "\n",
        "# Step 3: Train-Test Split\n",
        "X_train, X_test, y_train, y_test = train_test_split(X, y, test_size=0.2, random_state=42)\n",
        "\n",
        "# Step 4: TF-IDF Vectorization\n",
        "vectorizer = TfidfVectorizer(max_features=5000)\n",
        "X_train_vec = vectorizer.fit_transform(X_train)  #  use .fit_transform on text\n",
        "X_test_vec = vectorizer.transform(X_test)\n",
        "\n",
        "# Step 5: Train Model\n",
        "lr = LogisticRegression(max_iter=1000)\n",
        "lr.fit(X_train_vec, y_train)\n",
        "\n",
        "# Step 6: Predict\n",
        "y_pred = lr.predict(X_test_vec)\n",
        "\n",
        "# Step 7: Evaluate\n",
        "print(\"Accuracy:\", accuracy_score(y_test, y_pred))\n",
        "print(classification_report(y_test, y_pred))\n"
      ],
      "metadata": {
        "colab": {
          "base_uri": "https://localhost:8080/"
        },
        "id": "zM-UJaTMIDVp",
        "outputId": "ae5ac0f2-beef-45b0-d5fc-c26888d42732"
      },
      "id": "zM-UJaTMIDVp",
      "execution_count": null,
      "outputs": [
        {
          "output_type": "stream",
          "name": "stdout",
          "text": [
            "Accuracy: 0.49825\n",
            "              precision    recall  f1-score   support\n",
            "\n",
            "        fake       0.51      0.50      0.50      2029\n",
            "        real       0.49      0.50      0.50      1971\n",
            "\n",
            "    accuracy                           0.50      4000\n",
            "   macro avg       0.50      0.50      0.50      4000\n",
            "weighted avg       0.50      0.50      0.50      4000\n",
            "\n"
          ]
        }
      ]
    },
    {
      "cell_type": "code",
      "source": [
        "from sklearn.naive_bayes import MultinomialNB\n",
        "nb = MultinomialNB()\n",
        "nb.fit(X_train_vec, y_train)\n",
        "print(\"NB Accuracy:\", nb.score(X_test_vec, y_test))\n"
      ],
      "metadata": {
        "colab": {
          "base_uri": "https://localhost:8080/"
        },
        "id": "-N4_F69PID1d",
        "outputId": "066e3175-e5df-4c25-c6fd-5b594f90117f"
      },
      "id": "-N4_F69PID1d",
      "execution_count": null,
      "outputs": [
        {
          "output_type": "stream",
          "name": "stdout",
          "text": [
            "NB Accuracy: 0.51175\n"
          ]
        }
      ]
    },
    {
      "cell_type": "code",
      "source": [],
      "metadata": {
        "id": "QmeQEubwIfiL"
      },
      "id": "QmeQEubwIfiL",
      "execution_count": null,
      "outputs": []
    }
  ],
  "metadata": {
    "colab": {
      "provenance": [],
      "toc_visible": true
    },
    "language_info": {
      "name": "python"
    },
    "kernelspec": {
      "name": "python3",
      "display_name": "Python 3"
    }
  },
  "nbformat": 4,
  "nbformat_minor": 5
}